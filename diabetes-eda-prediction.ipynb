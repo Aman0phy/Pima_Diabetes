{
 "cells": [
  {
   "cell_type": "code",
   "execution_count": 1,
   "id": "63e29b21",
   "metadata": {
    "_cell_guid": "b1076dfc-b9ad-4769-8c92-a6c4dae69d19",
    "_uuid": "8f2839f25d086af736a60e9eeb907d3b93b6e0e5",
    "execution": {
     "iopub.execute_input": "2022-02-14T04:52:50.011137Z",
     "iopub.status.busy": "2022-02-14T04:52:50.010075Z",
     "iopub.status.idle": "2022-02-14T04:52:50.027480Z",
     "shell.execute_reply": "2022-02-14T04:52:50.026469Z",
     "shell.execute_reply.started": "2022-02-14T03:02:24.427592Z"
    },
    "papermill": {
     "duration": 0.039635,
     "end_time": "2022-02-14T04:52:50.027695",
     "exception": false,
     "start_time": "2022-02-14T04:52:49.988060",
     "status": "completed"
    },
    "tags": []
   },
   "outputs": [
    {
     "name": "stdout",
     "output_type": "stream",
     "text": [
      "/kaggle/input/pima-indians-diabetes-database/diabetes.csv\n"
     ]
    }
   ],
   "source": [
    "# This Python 3 environment comes with many helpful analytics libraries installed\n",
    "# It is defined by the kaggle/python Docker image: https://github.com/kaggle/docker-python\n",
    "# For example, here's several helpful packages to load\n",
    "\n",
    "import numpy as np # linear algebra\n",
    "import pandas as pd # data processing, CSV file I/O (e.g. pd.read_csv)\n",
    "\n",
    "# Input data files are available in the read-only \"../input/\" directory\n",
    "# For example, running this (by clicking run or pressing Shift+Enter) will list all files under the input directory\n",
    "\n",
    "import os\n",
    "for dirname, _, filenames in os.walk('/kaggle/input'):\n",
    "    for filename in filenames:\n",
    "        print(os.path.join(dirname, filename))\n",
    "\n",
    "# You can write up to 20GB to the current directory (/kaggle/working/) that gets preserved as output when you create a version using \"Save & Run All\" \n",
    "# You can also write temporary files to /kaggle/temp/, but they won't be saved outside of the current session"
   ]
  },
  {
   "cell_type": "code",
   "execution_count": 2,
   "id": "cb43f8c9",
   "metadata": {
    "execution": {
     "iopub.execute_input": "2022-02-14T04:52:50.068635Z",
     "iopub.status.busy": "2022-02-14T04:52:50.067957Z",
     "iopub.status.idle": "2022-02-14T04:52:51.040681Z",
     "shell.execute_reply": "2022-02-14T04:52:51.041319Z",
     "shell.execute_reply.started": "2022-02-14T03:02:24.461971Z"
    },
    "papermill": {
     "duration": 0.994886,
     "end_time": "2022-02-14T04:52:51.041521",
     "exception": false,
     "start_time": "2022-02-14T04:52:50.046635",
     "status": "completed"
    },
    "tags": []
   },
   "outputs": [],
   "source": [
    "import pandas as pd\n",
    "import matplotlib.pyplot as plt\n",
    "import seaborn as sns"
   ]
  },
  {
   "cell_type": "code",
   "execution_count": 3,
   "id": "a8317701",
   "metadata": {
    "execution": {
     "iopub.execute_input": "2022-02-14T04:52:51.081185Z",
     "iopub.status.busy": "2022-02-14T04:52:51.080237Z",
     "iopub.status.idle": "2022-02-14T04:52:51.094489Z",
     "shell.execute_reply": "2022-02-14T04:52:51.095027Z",
     "shell.execute_reply.started": "2022-02-14T03:02:25.353614Z"
    },
    "papermill": {
     "duration": 0.035782,
     "end_time": "2022-02-14T04:52:51.095209",
     "exception": false,
     "start_time": "2022-02-14T04:52:51.059427",
     "status": "completed"
    },
    "tags": []
   },
   "outputs": [],
   "source": [
    "df = pd.read_csv('/kaggle/input/pima-indians-diabetes-database/diabetes.csv')"
   ]
  },
  {
   "cell_type": "code",
   "execution_count": 4,
   "id": "4d6b5fcf",
   "metadata": {
    "execution": {
     "iopub.execute_input": "2022-02-14T04:52:51.134736Z",
     "iopub.status.busy": "2022-02-14T04:52:51.133840Z",
     "iopub.status.idle": "2022-02-14T04:52:51.152152Z",
     "shell.execute_reply": "2022-02-14T04:52:51.152661Z",
     "shell.execute_reply.started": "2022-02-14T03:02:25.374897Z"
    },
    "papermill": {
     "duration": 0.039701,
     "end_time": "2022-02-14T04:52:51.152827",
     "exception": false,
     "start_time": "2022-02-14T04:52:51.113126",
     "status": "completed"
    },
    "tags": []
   },
   "outputs": [
    {
     "data": {
      "text/html": [
       "<div>\n",
       "<style scoped>\n",
       "    .dataframe tbody tr th:only-of-type {\n",
       "        vertical-align: middle;\n",
       "    }\n",
       "\n",
       "    .dataframe tbody tr th {\n",
       "        vertical-align: top;\n",
       "    }\n",
       "\n",
       "    .dataframe thead th {\n",
       "        text-align: right;\n",
       "    }\n",
       "</style>\n",
       "<table border=\"1\" class=\"dataframe\">\n",
       "  <thead>\n",
       "    <tr style=\"text-align: right;\">\n",
       "      <th></th>\n",
       "      <th>Pregnancies</th>\n",
       "      <th>Glucose</th>\n",
       "      <th>BloodPressure</th>\n",
       "      <th>SkinThickness</th>\n",
       "      <th>Insulin</th>\n",
       "      <th>BMI</th>\n",
       "      <th>DiabetesPedigreeFunction</th>\n",
       "      <th>Age</th>\n",
       "      <th>Outcome</th>\n",
       "    </tr>\n",
       "  </thead>\n",
       "  <tbody>\n",
       "    <tr>\n",
       "      <th>0</th>\n",
       "      <td>6</td>\n",
       "      <td>148</td>\n",
       "      <td>72</td>\n",
       "      <td>35</td>\n",
       "      <td>0</td>\n",
       "      <td>33.6</td>\n",
       "      <td>0.627</td>\n",
       "      <td>50</td>\n",
       "      <td>1</td>\n",
       "    </tr>\n",
       "    <tr>\n",
       "      <th>1</th>\n",
       "      <td>1</td>\n",
       "      <td>85</td>\n",
       "      <td>66</td>\n",
       "      <td>29</td>\n",
       "      <td>0</td>\n",
       "      <td>26.6</td>\n",
       "      <td>0.351</td>\n",
       "      <td>31</td>\n",
       "      <td>0</td>\n",
       "    </tr>\n",
       "    <tr>\n",
       "      <th>2</th>\n",
       "      <td>8</td>\n",
       "      <td>183</td>\n",
       "      <td>64</td>\n",
       "      <td>0</td>\n",
       "      <td>0</td>\n",
       "      <td>23.3</td>\n",
       "      <td>0.672</td>\n",
       "      <td>32</td>\n",
       "      <td>1</td>\n",
       "    </tr>\n",
       "  </tbody>\n",
       "</table>\n",
       "</div>"
      ],
      "text/plain": [
       "   Pregnancies  Glucose  BloodPressure  SkinThickness  Insulin   BMI  \\\n",
       "0            6      148             72             35        0  33.6   \n",
       "1            1       85             66             29        0  26.6   \n",
       "2            8      183             64              0        0  23.3   \n",
       "\n",
       "   DiabetesPedigreeFunction  Age  Outcome  \n",
       "0                     0.627   50        1  \n",
       "1                     0.351   31        0  \n",
       "2                     0.672   32        1  "
      ]
     },
     "execution_count": 4,
     "metadata": {},
     "output_type": "execute_result"
    }
   ],
   "source": [
    "df.head(3)"
   ]
  },
  {
   "cell_type": "code",
   "execution_count": 5,
   "id": "401cb364",
   "metadata": {
    "execution": {
     "iopub.execute_input": "2022-02-14T04:52:51.192280Z",
     "iopub.status.busy": "2022-02-14T04:52:51.191362Z",
     "iopub.status.idle": "2022-02-14T04:52:51.198942Z",
     "shell.execute_reply": "2022-02-14T04:52:51.199401Z",
     "shell.execute_reply.started": "2022-02-14T03:02:25.396861Z"
    },
    "papermill": {
     "duration": 0.028903,
     "end_time": "2022-02-14T04:52:51.199575",
     "exception": false,
     "start_time": "2022-02-14T04:52:51.170672",
     "status": "completed"
    },
    "tags": []
   },
   "outputs": [
    {
     "data": {
      "text/plain": [
       "Pregnancies                   int64\n",
       "Glucose                       int64\n",
       "BloodPressure                 int64\n",
       "SkinThickness                 int64\n",
       "Insulin                       int64\n",
       "BMI                         float64\n",
       "DiabetesPedigreeFunction    float64\n",
       "Age                           int64\n",
       "Outcome                       int64\n",
       "dtype: object"
      ]
     },
     "execution_count": 5,
     "metadata": {},
     "output_type": "execute_result"
    }
   ],
   "source": [
    "df.dtypes"
   ]
  },
  {
   "cell_type": "code",
   "execution_count": 6,
   "id": "116d397c",
   "metadata": {
    "execution": {
     "iopub.execute_input": "2022-02-14T04:52:51.259856Z",
     "iopub.status.busy": "2022-02-14T04:52:51.259178Z",
     "iopub.status.idle": "2022-02-14T04:52:51.261766Z",
     "shell.execute_reply": "2022-02-14T04:52:51.262289Z",
     "shell.execute_reply.started": "2022-02-14T03:02:25.416557Z"
    },
    "papermill": {
     "duration": 0.044046,
     "end_time": "2022-02-14T04:52:51.262480",
     "exception": false,
     "start_time": "2022-02-14T04:52:51.218434",
     "status": "completed"
    },
    "tags": []
   },
   "outputs": [
    {
     "name": "stdout",
     "output_type": "stream",
     "text": [
      "<class 'pandas.core.frame.DataFrame'>\n",
      "RangeIndex: 768 entries, 0 to 767\n",
      "Data columns (total 9 columns):\n",
      " #   Column                    Non-Null Count  Dtype  \n",
      "---  ------                    --------------  -----  \n",
      " 0   Pregnancies               768 non-null    int64  \n",
      " 1   Glucose                   768 non-null    int64  \n",
      " 2   BloodPressure             768 non-null    int64  \n",
      " 3   SkinThickness             768 non-null    int64  \n",
      " 4   Insulin                   768 non-null    int64  \n",
      " 5   BMI                       768 non-null    float64\n",
      " 6   DiabetesPedigreeFunction  768 non-null    float64\n",
      " 7   Age                       768 non-null    int64  \n",
      " 8   Outcome                   768 non-null    int64  \n",
      "dtypes: float64(2), int64(7)\n",
      "memory usage: 54.1 KB\n"
     ]
    }
   ],
   "source": [
    "\n",
    "df.info()"
   ]
  },
  {
   "cell_type": "code",
   "execution_count": 7,
   "id": "6323f63d",
   "metadata": {
    "execution": {
     "iopub.execute_input": "2022-02-14T04:52:51.310426Z",
     "iopub.status.busy": "2022-02-14T04:52:51.309785Z",
     "iopub.status.idle": "2022-02-14T04:52:51.339198Z",
     "shell.execute_reply": "2022-02-14T04:52:51.339698Z",
     "shell.execute_reply.started": "2022-02-14T03:02:25.444290Z"
    },
    "papermill": {
     "duration": 0.057796,
     "end_time": "2022-02-14T04:52:51.339869",
     "exception": false,
     "start_time": "2022-02-14T04:52:51.282073",
     "status": "completed"
    },
    "tags": []
   },
   "outputs": [
    {
     "data": {
      "text/html": [
       "<div>\n",
       "<style scoped>\n",
       "    .dataframe tbody tr th:only-of-type {\n",
       "        vertical-align: middle;\n",
       "    }\n",
       "\n",
       "    .dataframe tbody tr th {\n",
       "        vertical-align: top;\n",
       "    }\n",
       "\n",
       "    .dataframe thead th {\n",
       "        text-align: right;\n",
       "    }\n",
       "</style>\n",
       "<table border=\"1\" class=\"dataframe\">\n",
       "  <thead>\n",
       "    <tr style=\"text-align: right;\">\n",
       "      <th></th>\n",
       "      <th>Pregnancies</th>\n",
       "      <th>Glucose</th>\n",
       "      <th>BloodPressure</th>\n",
       "      <th>SkinThickness</th>\n",
       "      <th>Insulin</th>\n",
       "      <th>BMI</th>\n",
       "      <th>DiabetesPedigreeFunction</th>\n",
       "      <th>Age</th>\n",
       "      <th>Outcome</th>\n",
       "    </tr>\n",
       "  </thead>\n",
       "  <tbody>\n",
       "    <tr>\n",
       "      <th>count</th>\n",
       "      <td>768.000000</td>\n",
       "      <td>768.000000</td>\n",
       "      <td>768.000000</td>\n",
       "      <td>768.000000</td>\n",
       "      <td>768.000000</td>\n",
       "      <td>768.000000</td>\n",
       "      <td>768.000000</td>\n",
       "      <td>768.000000</td>\n",
       "      <td>768.000000</td>\n",
       "    </tr>\n",
       "    <tr>\n",
       "      <th>mean</th>\n",
       "      <td>3.845052</td>\n",
       "      <td>120.894531</td>\n",
       "      <td>69.105469</td>\n",
       "      <td>20.536458</td>\n",
       "      <td>79.799479</td>\n",
       "      <td>31.992578</td>\n",
       "      <td>0.471876</td>\n",
       "      <td>33.240885</td>\n",
       "      <td>0.348958</td>\n",
       "    </tr>\n",
       "    <tr>\n",
       "      <th>std</th>\n",
       "      <td>3.369578</td>\n",
       "      <td>31.972618</td>\n",
       "      <td>19.355807</td>\n",
       "      <td>15.952218</td>\n",
       "      <td>115.244002</td>\n",
       "      <td>7.884160</td>\n",
       "      <td>0.331329</td>\n",
       "      <td>11.760232</td>\n",
       "      <td>0.476951</td>\n",
       "    </tr>\n",
       "    <tr>\n",
       "      <th>min</th>\n",
       "      <td>0.000000</td>\n",
       "      <td>0.000000</td>\n",
       "      <td>0.000000</td>\n",
       "      <td>0.000000</td>\n",
       "      <td>0.000000</td>\n",
       "      <td>0.000000</td>\n",
       "      <td>0.078000</td>\n",
       "      <td>21.000000</td>\n",
       "      <td>0.000000</td>\n",
       "    </tr>\n",
       "    <tr>\n",
       "      <th>25%</th>\n",
       "      <td>1.000000</td>\n",
       "      <td>99.000000</td>\n",
       "      <td>62.000000</td>\n",
       "      <td>0.000000</td>\n",
       "      <td>0.000000</td>\n",
       "      <td>27.300000</td>\n",
       "      <td>0.243750</td>\n",
       "      <td>24.000000</td>\n",
       "      <td>0.000000</td>\n",
       "    </tr>\n",
       "    <tr>\n",
       "      <th>50%</th>\n",
       "      <td>3.000000</td>\n",
       "      <td>117.000000</td>\n",
       "      <td>72.000000</td>\n",
       "      <td>23.000000</td>\n",
       "      <td>30.500000</td>\n",
       "      <td>32.000000</td>\n",
       "      <td>0.372500</td>\n",
       "      <td>29.000000</td>\n",
       "      <td>0.000000</td>\n",
       "    </tr>\n",
       "    <tr>\n",
       "      <th>75%</th>\n",
       "      <td>6.000000</td>\n",
       "      <td>140.250000</td>\n",
       "      <td>80.000000</td>\n",
       "      <td>32.000000</td>\n",
       "      <td>127.250000</td>\n",
       "      <td>36.600000</td>\n",
       "      <td>0.626250</td>\n",
       "      <td>41.000000</td>\n",
       "      <td>1.000000</td>\n",
       "    </tr>\n",
       "    <tr>\n",
       "      <th>max</th>\n",
       "      <td>17.000000</td>\n",
       "      <td>199.000000</td>\n",
       "      <td>122.000000</td>\n",
       "      <td>99.000000</td>\n",
       "      <td>846.000000</td>\n",
       "      <td>67.100000</td>\n",
       "      <td>2.420000</td>\n",
       "      <td>81.000000</td>\n",
       "      <td>1.000000</td>\n",
       "    </tr>\n",
       "  </tbody>\n",
       "</table>\n",
       "</div>"
      ],
      "text/plain": [
       "       Pregnancies     Glucose  BloodPressure  SkinThickness     Insulin  \\\n",
       "count   768.000000  768.000000     768.000000     768.000000  768.000000   \n",
       "mean      3.845052  120.894531      69.105469      20.536458   79.799479   \n",
       "std       3.369578   31.972618      19.355807      15.952218  115.244002   \n",
       "min       0.000000    0.000000       0.000000       0.000000    0.000000   \n",
       "25%       1.000000   99.000000      62.000000       0.000000    0.000000   \n",
       "50%       3.000000  117.000000      72.000000      23.000000   30.500000   \n",
       "75%       6.000000  140.250000      80.000000      32.000000  127.250000   \n",
       "max      17.000000  199.000000     122.000000      99.000000  846.000000   \n",
       "\n",
       "              BMI  DiabetesPedigreeFunction         Age     Outcome  \n",
       "count  768.000000                768.000000  768.000000  768.000000  \n",
       "mean    31.992578                  0.471876   33.240885    0.348958  \n",
       "std      7.884160                  0.331329   11.760232    0.476951  \n",
       "min      0.000000                  0.078000   21.000000    0.000000  \n",
       "25%     27.300000                  0.243750   24.000000    0.000000  \n",
       "50%     32.000000                  0.372500   29.000000    0.000000  \n",
       "75%     36.600000                  0.626250   41.000000    1.000000  \n",
       "max     67.100000                  2.420000   81.000000    1.000000  "
      ]
     },
     "execution_count": 7,
     "metadata": {},
     "output_type": "execute_result"
    }
   ],
   "source": [
    "df.describe()"
   ]
  },
  {
   "cell_type": "code",
   "execution_count": 8,
   "id": "19d5d0b0",
   "metadata": {
    "execution": {
     "iopub.execute_input": "2022-02-14T04:52:51.383309Z",
     "iopub.status.busy": "2022-02-14T04:52:51.382704Z",
     "iopub.status.idle": "2022-02-14T04:52:51.387080Z",
     "shell.execute_reply": "2022-02-14T04:52:51.387694Z",
     "shell.execute_reply.started": "2022-02-14T03:02:25.490503Z"
    },
    "papermill": {
     "duration": 0.02782,
     "end_time": "2022-02-14T04:52:51.387858",
     "exception": false,
     "start_time": "2022-02-14T04:52:51.360038",
     "status": "completed"
    },
    "tags": []
   },
   "outputs": [],
   "source": [
    "# function to draw a histogram given dataframe, featurre name and x axis title name\n",
    "def plot_hist(df,feature,axis_name):\n",
    "    fig,ax = plt.subplots(figsize=(6,5))\n",
    "    plt.hist(df[feature],bins=50)\n",
    "    plt.xlabel(axis_name)\n",
    "    plt.show()"
   ]
  },
  {
   "cell_type": "code",
   "execution_count": 9,
   "id": "fa14ba32",
   "metadata": {
    "execution": {
     "iopub.execute_input": "2022-02-14T04:52:51.432915Z",
     "iopub.status.busy": "2022-02-14T04:52:51.432286Z",
     "iopub.status.idle": "2022-02-14T04:52:53.366550Z",
     "shell.execute_reply": "2022-02-14T04:52:53.367067Z",
     "shell.execute_reply.started": "2022-02-14T03:10:41.796875Z"
    },
    "papermill": {
     "duration": 1.959281,
     "end_time": "2022-02-14T04:52:53.367242",
     "exception": false,
     "start_time": "2022-02-14T04:52:51.407961",
     "status": "completed"
    },
    "tags": []
   },
   "outputs": [
    {
     "data": {
      "image/png": "[encoded data removed]",
      "text/plain": [
       "<Figure size 864x936 with 9 Axes>"
      ]
     },
     "metadata": {
      "needs_background": "light"
     },
     "output_type": "display_data"
    }
   ],
   "source": [
    "df.hist(figsize=(12,13),bins=50)\n",
    "plt.show()    \n",
    "    "
   ]
  },
  {
   "cell_type": "code",
   "execution_count": 10,
   "id": "5915c86d",
   "metadata": {
    "execution": {
     "iopub.execute_input": "2022-02-14T04:52:53.415359Z",
     "iopub.status.busy": "2022-02-14T04:52:53.414742Z",
     "iopub.status.idle": "2022-02-14T04:52:53.417774Z",
     "shell.execute_reply": "2022-02-14T04:52:53.417207Z",
     "shell.execute_reply.started": "2022-02-14T03:02:26.508229Z"
    },
    "papermill": {
     "duration": 0.02873,
     "end_time": "2022-02-14T04:52:53.417912",
     "exception": false,
     "start_time": "2022-02-14T04:52:53.389182",
     "status": "completed"
    },
    "tags": []
   },
   "outputs": [],
   "source": [
    "# Stoppinig the ooutliers and missing values\n",
    "# here enters coommon sense and domain knowledge\n",
    "# frrmo the output of describe and above histograms, we need to carefully check if the distributions make sense"
   ]
  },
  {
   "cell_type": "markdown",
   "id": "899a3e5b",
   "metadata": {
    "papermill": {
     "duration": 0.021189,
     "end_time": "2022-02-14T04:52:53.460688",
     "exception": false,
     "start_time": "2022-02-14T04:52:53.439499",
     "status": "completed"
    },
    "tags": []
   },
   "source": [
    "## in our data following variables can't have zero value:\n",
    "\n",
    "* BMI\n",
    "* Insulin\n",
    "* Skin thickness\n",
    "* Blood pressure\n",
    "* Glucose\n",
    "\n",
    "Any of these zero means a person is dead <br>\n",
    "It means these are missing values <br>\n",
    "Let's see how many missing values does each of these columns have\n"
   ]
  },
  {
   "cell_type": "markdown",
   "id": "09808ee2",
   "metadata": {
    "papermill": {
     "duration": 0.022756,
     "end_time": "2022-02-14T04:52:53.504623",
     "exception": false,
     "start_time": "2022-02-14T04:52:53.481867",
     "status": "completed"
    },
    "tags": []
   },
   "source": []
  },
  {
   "cell_type": "code",
   "execution_count": 11,
   "id": "0cc49870",
   "metadata": {
    "execution": {
     "iopub.execute_input": "2022-02-14T04:52:53.549921Z",
     "iopub.status.busy": "2022-02-14T04:52:53.549316Z",
     "iopub.status.idle": "2022-02-14T04:52:53.558293Z",
     "shell.execute_reply": "2022-02-14T04:52:53.558937Z",
     "shell.execute_reply.started": "2022-02-14T03:02:26.513706Z"
    },
    "papermill": {
     "duration": 0.033454,
     "end_time": "2022-02-14T04:52:53.559163",
     "exception": false,
     "start_time": "2022-02-14T04:52:53.525709",
     "status": "completed"
    },
    "tags": []
   },
   "outputs": [
    {
     "name": "stdout",
     "output_type": "stream",
     "text": [
      "feature name   Missing Values      % missing values\n",
      "Glucose        5                    0.65\n",
      "BloodPressure  35                   4.56\n",
      "SkinThickness  227                  29.56\n",
      "Insulin        374                  48.70\n",
      "BMI            11                   1.43\n"
     ]
    }
   ],
   "source": [
    "# making a list of columns with missing values\n",
    "ms_col = ['Glucose','BloodPressure','SkinThickness','Insulin','BMI']\n",
    "print(f\"{'feature name': <15}{'Missing Values':<20}{'% missing values':<10}\")\n",
    "for i in ms_col:\n",
    "    print(f\"{i: <15}{(df[i]==0).sum():<20}{(((df[i]==0).sum())*100)/df.shape[0]: .2f}\")"
   ]
  },
  {
   "cell_type": "markdown",
   "id": "e5e3a714",
   "metadata": {
    "papermill": {
     "duration": 0.021871,
     "end_time": "2022-02-14T04:52:53.603680",
     "exception": false,
     "start_time": "2022-02-14T04:52:53.581809",
     "status": "completed"
    },
    "tags": []
   },
   "source": [
    "## What to do with these missing values ?\n",
    "For the features Insulin, Skin Thickness a big fraction of values is missing <br>\n",
    "We can't just delete the rows with missing values\n"
   ]
  },
  {
   "cell_type": "markdown",
   "id": "f8867334",
   "metadata": {
    "papermill": {
     "duration": 0.021784,
     "end_time": "2022-02-14T04:52:53.647479",
     "exception": false,
     "start_time": "2022-02-14T04:52:53.625695",
     "status": "completed"
    },
    "tags": []
   },
   "source": [
    "## Let's first plot the  distribution of outcome for each feature when the value is misssing,\n",
    "we want to check if they are not biased for a particular outcome, especially for insulin and skin thicknesss "
   ]
  },
  {
   "cell_type": "code",
   "execution_count": 12,
   "id": "1107af22",
   "metadata": {
    "execution": {
     "iopub.execute_input": "2022-02-14T04:52:53.729176Z",
     "iopub.status.busy": "2022-02-14T04:52:53.728418Z",
     "iopub.status.idle": "2022-02-14T04:52:54.540561Z",
     "shell.execute_reply": "2022-02-14T04:52:54.541041Z",
     "shell.execute_reply.started": "2022-02-14T03:37:02.231946Z"
    },
    "papermill": {
     "duration": 0.871765,
     "end_time": "2022-02-14T04:52:54.541199",
     "exception": false,
     "start_time": "2022-02-14T04:52:53.669434",
     "status": "completed"
    },
    "tags": []
   },
   "outputs": [
    {
     "data": {
      "image/png": "[encoded data removed]",
      "text/plain": [
       "<Figure size 864x576 with 6 Axes>"
      ]
     },
     "metadata": {
      "needs_background": "light"
     },
     "output_type": "display_data"
    }
   ],
   "source": [
    "fig,ax = plt.subplots(2,3,figsize=(12,8))\n",
    "ax = ax.ravel()\n",
    "j =0\n",
    "for i in ms_col:\n",
    "    df[df[i]==0]['Outcome'].hist(ax=ax[j])\n",
    "    ax[j].set_title(i)\n",
    "    j=j+1"
   ]
  },
  {
   "cell_type": "markdown",
   "id": "edbfe4c8",
   "metadata": {
    "papermill": {
     "duration": 0.022644,
     "end_time": "2022-02-14T04:52:54.586685",
     "exception": false,
     "start_time": "2022-02-14T04:52:54.564041",
     "status": "completed"
    },
    "tags": []
   },
   "source": [
    "In both the cases, Skin thickness and insulin. The outcome 0 (no diabetes) has more missing data than outcome 1 (diabetess). In fact the pattern is consistent for all the feature variables with misssing values"
   ]
  },
  {
   "cell_type": "code",
   "execution_count": 13,
   "id": "ac931f3a",
   "metadata": {
    "execution": {
     "iopub.execute_input": "2022-02-14T04:52:54.641507Z",
     "iopub.status.busy": "2022-02-14T04:52:54.639439Z",
     "iopub.status.idle": "2022-02-14T04:52:55.378785Z",
     "shell.execute_reply": "2022-02-14T04:52:55.379285Z",
     "shell.execute_reply.started": "2022-02-14T03:02:26.528909Z"
    },
    "papermill": {
     "duration": 0.769754,
     "end_time": "2022-02-14T04:52:55.379485",
     "exception": false,
     "start_time": "2022-02-14T04:52:54.609731",
     "status": "completed"
    },
    "tags": []
   },
   "outputs": [
    {
     "data": {
      "image/png": "[encoded data removed]",
      "text/plain": [
       "<Figure size 1152x576 with 2 Axes>"
      ]
     },
     "metadata": {
      "needs_background": "light"
     },
     "output_type": "display_data"
    }
   ],
   "source": [
    "plt.figure(figsize=(16, 8))\n",
    "heatmap = sns.heatmap(df.corr(), vmin=-1, vmax=1, annot=True)\n",
    "heatmap.set_title('Correlation Heatmap', fontdict={'fontsize':12}, pad=12);"
   ]
  },
  {
   "cell_type": "code",
   "execution_count": null,
   "id": "f674127a",
   "metadata": {
    "papermill": {
     "duration": 0.026102,
     "end_time": "2022-02-14T04:52:55.432674",
     "exception": false,
     "start_time": "2022-02-14T04:52:55.406572",
     "status": "completed"
    },
    "tags": []
   },
   "outputs": [],
   "source": []
  }
 ],
 "metadata": {
  "kernelspec": {
   "display_name": "Python 3",
   "language": "python",
   "name": "python3"
  },
  "language_info": {
   "codemirror_mode": {
    "name": "ipython",
    "version": 3
   },
   "file_extension": ".py",
   "mimetype": "text/x-python",
   "name": "python",
   "nbconvert_exporter": "python",
   "pygments_lexer": "ipython3",
   "version": "3.7.12"
  },
  "papermill": {
   "default_parameters": {},
   "duration": 15.228164,
   "end_time": "2022-02-14T04:52:56.168785",
   "environment_variables": {},
   "exception": null,
   "input_path": "__notebook__.ipynb",
   "output_path": "__notebook__.ipynb",
   "parameters": {},
   "start_time": "2022-02-14T04:52:40.940621",
   "version": "2.3.3"
  }
 },
 "nbformat": 4,
 "nbformat_minor": 5
}
