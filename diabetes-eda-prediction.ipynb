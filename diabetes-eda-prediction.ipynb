{
 "cells": [
  {
   "cell_type": "code",
   "execution_count": 1,
   "id": "51c69992",
   "metadata": {
    "_cell_guid": "b1076dfc-b9ad-4769-8c92-a6c4dae69d19",
    "_uuid": "8f2839f25d086af736a60e9eeb907d3b93b6e0e5",
    "execution": {
     "iopub.execute_input": "2022-02-14T00:56:03.371438Z",
     "iopub.status.busy": "2022-02-14T00:56:03.370164Z",
     "iopub.status.idle": "2022-02-14T00:56:03.385187Z",
     "shell.execute_reply": "2022-02-14T00:56:03.385710Z",
     "shell.execute_reply.started": "2022-02-14T00:17:49.842721Z"
    },
    "papermill": {
     "duration": 0.036931,
     "end_time": "2022-02-14T00:56:03.386028",
     "exception": false,
     "start_time": "2022-02-14T00:56:03.349097",
     "status": "completed"
    },
    "tags": []
   },
   "outputs": [
    {
     "name": "stdout",
     "output_type": "stream",
     "text": [
      "/kaggle/input/pima-indians-diabetes-database/diabetes.csv\n"
     ]
    }
   ],
   "source": [
    "# This Python 3 environment comes with many helpful analytics libraries installed\n",
    "# It is defined by the kaggle/python Docker image: https://github.com/kaggle/docker-python\n",
    "# For example, here's several helpful packages to load\n",
    "\n",
    "import numpy as np # linear algebra\n",
    "import pandas as pd # data processing, CSV file I/O (e.g. pd.read_csv)\n",
    "\n",
    "# Input data files are available in the read-only \"../input/\" directory\n",
    "# For example, running this (by clicking run or pressing Shift+Enter) will list all files under the input directory\n",
    "\n",
    "import os\n",
    "for dirname, _, filenames in os.walk('/kaggle/input'):\n",
    "    for filename in filenames:\n",
    "        print(os.path.join(dirname, filename))\n",
    "\n",
    "# You can write up to 20GB to the current directory (/kaggle/working/) that gets preserved as output when you create a version using \"Save & Run All\" \n",
    "# You can also write temporary files to /kaggle/temp/, but they won't be saved outside of the current session"
   ]
  },
  {
   "cell_type": "code",
   "execution_count": 2,
   "id": "f6a3a644",
   "metadata": {
    "execution": {
     "iopub.execute_input": "2022-02-14T00:56:03.422127Z",
     "iopub.status.busy": "2022-02-14T00:56:03.421461Z",
     "iopub.status.idle": "2022-02-14T00:56:03.425523Z",
     "shell.execute_reply": "2022-02-14T00:56:03.426135Z",
     "shell.execute_reply.started": "2022-02-14T00:18:04.770397Z"
    },
    "papermill": {
     "duration": 0.023845,
     "end_time": "2022-02-14T00:56:03.426292",
     "exception": false,
     "start_time": "2022-02-14T00:56:03.402447",
     "status": "completed"
    },
    "tags": []
   },
   "outputs": [],
   "source": [
    "import pandas as pd"
   ]
  },
  {
   "cell_type": "code",
   "execution_count": 3,
   "id": "d4844356",
   "metadata": {
    "execution": {
     "iopub.execute_input": "2022-02-14T00:56:03.461643Z",
     "iopub.status.busy": "2022-02-14T00:56:03.460867Z",
     "iopub.status.idle": "2022-02-14T00:56:03.479627Z",
     "shell.execute_reply": "2022-02-14T00:56:03.480165Z",
     "shell.execute_reply.started": "2022-02-14T00:19:15.496420Z"
    },
    "papermill": {
     "duration": 0.038392,
     "end_time": "2022-02-14T00:56:03.480359",
     "exception": false,
     "start_time": "2022-02-14T00:56:03.441967",
     "status": "completed"
    },
    "tags": []
   },
   "outputs": [],
   "source": [
    "df = pd.read_csv('/kaggle/input/pima-indians-diabetes-database/diabetes.csv')"
   ]
  },
  {
   "cell_type": "code",
   "execution_count": 4,
   "id": "3f6dc7bd",
   "metadata": {
    "execution": {
     "iopub.execute_input": "2022-02-14T00:56:03.517561Z",
     "iopub.status.busy": "2022-02-14T00:56:03.516571Z",
     "iopub.status.idle": "2022-02-14T00:56:03.538370Z",
     "shell.execute_reply": "2022-02-14T00:56:03.538921Z",
     "shell.execute_reply.started": "2022-02-14T00:19:23.902577Z"
    },
    "papermill": {
     "duration": 0.04198,
     "end_time": "2022-02-14T00:56:03.539104",
     "exception": false,
     "start_time": "2022-02-14T00:56:03.497124",
     "status": "completed"
    },
    "tags": []
   },
   "outputs": [
    {
     "data": {
      "text/html": [
       "<div>\n",
       "<style scoped>\n",
       "    .dataframe tbody tr th:only-of-type {\n",
       "        vertical-align: middle;\n",
       "    }\n",
       "\n",
       "    .dataframe tbody tr th {\n",
       "        vertical-align: top;\n",
       "    }\n",
       "\n",
       "    .dataframe thead th {\n",
       "        text-align: right;\n",
       "    }\n",
       "</style>\n",
       "<table border=\"1\" class=\"dataframe\">\n",
       "  <thead>\n",
       "    <tr style=\"text-align: right;\">\n",
       "      <th></th>\n",
       "      <th>Pregnancies</th>\n",
       "      <th>Glucose</th>\n",
       "      <th>BloodPressure</th>\n",
       "      <th>SkinThickness</th>\n",
       "      <th>Insulin</th>\n",
       "      <th>BMI</th>\n",
       "      <th>DiabetesPedigreeFunction</th>\n",
       "      <th>Age</th>\n",
       "      <th>Outcome</th>\n",
       "    </tr>\n",
       "  </thead>\n",
       "  <tbody>\n",
       "    <tr>\n",
       "      <th>0</th>\n",
       "      <td>6</td>\n",
       "      <td>148</td>\n",
       "      <td>72</td>\n",
       "      <td>35</td>\n",
       "      <td>0</td>\n",
       "      <td>33.6</td>\n",
       "      <td>0.627</td>\n",
       "      <td>50</td>\n",
       "      <td>1</td>\n",
       "    </tr>\n",
       "    <tr>\n",
       "      <th>1</th>\n",
       "      <td>1</td>\n",
       "      <td>85</td>\n",
       "      <td>66</td>\n",
       "      <td>29</td>\n",
       "      <td>0</td>\n",
       "      <td>26.6</td>\n",
       "      <td>0.351</td>\n",
       "      <td>31</td>\n",
       "      <td>0</td>\n",
       "    </tr>\n",
       "    <tr>\n",
       "      <th>2</th>\n",
       "      <td>8</td>\n",
       "      <td>183</td>\n",
       "      <td>64</td>\n",
       "      <td>0</td>\n",
       "      <td>0</td>\n",
       "      <td>23.3</td>\n",
       "      <td>0.672</td>\n",
       "      <td>32</td>\n",
       "      <td>1</td>\n",
       "    </tr>\n",
       "  </tbody>\n",
       "</table>\n",
       "</div>"
      ],
      "text/plain": [
       "   Pregnancies  Glucose  BloodPressure  SkinThickness  Insulin   BMI  \\\n",
       "0            6      148             72             35        0  33.6   \n",
       "1            1       85             66             29        0  26.6   \n",
       "2            8      183             64              0        0  23.3   \n",
       "\n",
       "   DiabetesPedigreeFunction  Age  Outcome  \n",
       "0                     0.627   50        1  \n",
       "1                     0.351   31        0  \n",
       "2                     0.672   32        1  "
      ]
     },
     "execution_count": 4,
     "metadata": {},
     "output_type": "execute_result"
    }
   ],
   "source": [
    "df.head(3)"
   ]
  },
  {
   "cell_type": "code",
   "execution_count": 5,
   "id": "54b76f06",
   "metadata": {
    "execution": {
     "iopub.execute_input": "2022-02-14T00:56:03.576354Z",
     "iopub.status.busy": "2022-02-14T00:56:03.575330Z",
     "iopub.status.idle": "2022-02-14T00:56:03.583192Z",
     "shell.execute_reply": "2022-02-14T00:56:03.583680Z",
     "shell.execute_reply.started": "2022-02-14T00:19:56.941463Z"
    },
    "papermill": {
     "duration": 0.027893,
     "end_time": "2022-02-14T00:56:03.583884",
     "exception": false,
     "start_time": "2022-02-14T00:56:03.555991",
     "status": "completed"
    },
    "tags": []
   },
   "outputs": [
    {
     "data": {
      "text/plain": [
       "Pregnancies                   int64\n",
       "Glucose                       int64\n",
       "BloodPressure                 int64\n",
       "SkinThickness                 int64\n",
       "Insulin                       int64\n",
       "BMI                         float64\n",
       "DiabetesPedigreeFunction    float64\n",
       "Age                           int64\n",
       "Outcome                       int64\n",
       "dtype: object"
      ]
     },
     "execution_count": 5,
     "metadata": {},
     "output_type": "execute_result"
    }
   ],
   "source": [
    "df.dtypes"
   ]
  },
  {
   "cell_type": "code",
   "execution_count": 6,
   "id": "0ab19541",
   "metadata": {
    "execution": {
     "iopub.execute_input": "2022-02-14T00:56:03.644035Z",
     "iopub.status.busy": "2022-02-14T00:56:03.643310Z",
     "iopub.status.idle": "2022-02-14T00:56:03.647162Z",
     "shell.execute_reply": "2022-02-14T00:56:03.646362Z",
     "shell.execute_reply.started": "2022-02-14T00:20:37.157307Z"
    },
    "papermill": {
     "duration": 0.0457,
     "end_time": "2022-02-14T00:56:03.647349",
     "exception": false,
     "start_time": "2022-02-14T00:56:03.601649",
     "status": "completed"
    },
    "tags": []
   },
   "outputs": [
    {
     "name": "stdout",
     "output_type": "stream",
     "text": [
      "<class 'pandas.core.frame.DataFrame'>\n",
      "RangeIndex: 768 entries, 0 to 767\n",
      "Data columns (total 9 columns):\n",
      " #   Column                    Non-Null Count  Dtype  \n",
      "---  ------                    --------------  -----  \n",
      " 0   Pregnancies               768 non-null    int64  \n",
      " 1   Glucose                   768 non-null    int64  \n",
      " 2   BloodPressure             768 non-null    int64  \n",
      " 3   SkinThickness             768 non-null    int64  \n",
      " 4   Insulin                   768 non-null    int64  \n",
      " 5   BMI                       768 non-null    float64\n",
      " 6   DiabetesPedigreeFunction  768 non-null    float64\n",
      " 7   Age                       768 non-null    int64  \n",
      " 8   Outcome                   768 non-null    int64  \n",
      "dtypes: float64(2), int64(7)\n",
      "memory usage: 54.1 KB\n"
     ]
    }
   ],
   "source": [
    "\n",
    "df.info()"
   ]
  },
  {
   "cell_type": "code",
   "execution_count": 7,
   "id": "d37df466",
   "metadata": {
    "execution": {
     "iopub.execute_input": "2022-02-14T00:56:03.693469Z",
     "iopub.status.busy": "2022-02-14T00:56:03.692445Z",
     "iopub.status.idle": "2022-02-14T00:56:03.727236Z",
     "shell.execute_reply": "2022-02-14T00:56:03.726524Z",
     "shell.execute_reply.started": "2022-02-14T00:20:53.998995Z"
    },
    "papermill": {
     "duration": 0.061604,
     "end_time": "2022-02-14T00:56:03.727449",
     "exception": false,
     "start_time": "2022-02-14T00:56:03.665845",
     "status": "completed"
    },
    "tags": []
   },
   "outputs": [
    {
     "data": {
      "text/html": [
       "<div>\n",
       "<style scoped>\n",
       "    .dataframe tbody tr th:only-of-type {\n",
       "        vertical-align: middle;\n",
       "    }\n",
       "\n",
       "    .dataframe tbody tr th {\n",
       "        vertical-align: top;\n",
       "    }\n",
       "\n",
       "    .dataframe thead th {\n",
       "        text-align: right;\n",
       "    }\n",
       "</style>\n",
       "<table border=\"1\" class=\"dataframe\">\n",
       "  <thead>\n",
       "    <tr style=\"text-align: right;\">\n",
       "      <th></th>\n",
       "      <th>Pregnancies</th>\n",
       "      <th>Glucose</th>\n",
       "      <th>BloodPressure</th>\n",
       "      <th>SkinThickness</th>\n",
       "      <th>Insulin</th>\n",
       "      <th>BMI</th>\n",
       "      <th>DiabetesPedigreeFunction</th>\n",
       "      <th>Age</th>\n",
       "      <th>Outcome</th>\n",
       "    </tr>\n",
       "  </thead>\n",
       "  <tbody>\n",
       "    <tr>\n",
       "      <th>count</th>\n",
       "      <td>768.000000</td>\n",
       "      <td>768.000000</td>\n",
       "      <td>768.000000</td>\n",
       "      <td>768.000000</td>\n",
       "      <td>768.000000</td>\n",
       "      <td>768.000000</td>\n",
       "      <td>768.000000</td>\n",
       "      <td>768.000000</td>\n",
       "      <td>768.000000</td>\n",
       "    </tr>\n",
       "    <tr>\n",
       "      <th>mean</th>\n",
       "      <td>3.845052</td>\n",
       "      <td>120.894531</td>\n",
       "      <td>69.105469</td>\n",
       "      <td>20.536458</td>\n",
       "      <td>79.799479</td>\n",
       "      <td>31.992578</td>\n",
       "      <td>0.471876</td>\n",
       "      <td>33.240885</td>\n",
       "      <td>0.348958</td>\n",
       "    </tr>\n",
       "    <tr>\n",
       "      <th>std</th>\n",
       "      <td>3.369578</td>\n",
       "      <td>31.972618</td>\n",
       "      <td>19.355807</td>\n",
       "      <td>15.952218</td>\n",
       "      <td>115.244002</td>\n",
       "      <td>7.884160</td>\n",
       "      <td>0.331329</td>\n",
       "      <td>11.760232</td>\n",
       "      <td>0.476951</td>\n",
       "    </tr>\n",
       "    <tr>\n",
       "      <th>min</th>\n",
       "      <td>0.000000</td>\n",
       "      <td>0.000000</td>\n",
       "      <td>0.000000</td>\n",
       "      <td>0.000000</td>\n",
       "      <td>0.000000</td>\n",
       "      <td>0.000000</td>\n",
       "      <td>0.078000</td>\n",
       "      <td>21.000000</td>\n",
       "      <td>0.000000</td>\n",
       "    </tr>\n",
       "    <tr>\n",
       "      <th>25%</th>\n",
       "      <td>1.000000</td>\n",
       "      <td>99.000000</td>\n",
       "      <td>62.000000</td>\n",
       "      <td>0.000000</td>\n",
       "      <td>0.000000</td>\n",
       "      <td>27.300000</td>\n",
       "      <td>0.243750</td>\n",
       "      <td>24.000000</td>\n",
       "      <td>0.000000</td>\n",
       "    </tr>\n",
       "    <tr>\n",
       "      <th>50%</th>\n",
       "      <td>3.000000</td>\n",
       "      <td>117.000000</td>\n",
       "      <td>72.000000</td>\n",
       "      <td>23.000000</td>\n",
       "      <td>30.500000</td>\n",
       "      <td>32.000000</td>\n",
       "      <td>0.372500</td>\n",
       "      <td>29.000000</td>\n",
       "      <td>0.000000</td>\n",
       "    </tr>\n",
       "    <tr>\n",
       "      <th>75%</th>\n",
       "      <td>6.000000</td>\n",
       "      <td>140.250000</td>\n",
       "      <td>80.000000</td>\n",
       "      <td>32.000000</td>\n",
       "      <td>127.250000</td>\n",
       "      <td>36.600000</td>\n",
       "      <td>0.626250</td>\n",
       "      <td>41.000000</td>\n",
       "      <td>1.000000</td>\n",
       "    </tr>\n",
       "    <tr>\n",
       "      <th>max</th>\n",
       "      <td>17.000000</td>\n",
       "      <td>199.000000</td>\n",
       "      <td>122.000000</td>\n",
       "      <td>99.000000</td>\n",
       "      <td>846.000000</td>\n",
       "      <td>67.100000</td>\n",
       "      <td>2.420000</td>\n",
       "      <td>81.000000</td>\n",
       "      <td>1.000000</td>\n",
       "    </tr>\n",
       "  </tbody>\n",
       "</table>\n",
       "</div>"
      ],
      "text/plain": [
       "       Pregnancies     Glucose  BloodPressure  SkinThickness     Insulin  \\\n",
       "count   768.000000  768.000000     768.000000     768.000000  768.000000   \n",
       "mean      3.845052  120.894531      69.105469      20.536458   79.799479   \n",
       "std       3.369578   31.972618      19.355807      15.952218  115.244002   \n",
       "min       0.000000    0.000000       0.000000       0.000000    0.000000   \n",
       "25%       1.000000   99.000000      62.000000       0.000000    0.000000   \n",
       "50%       3.000000  117.000000      72.000000      23.000000   30.500000   \n",
       "75%       6.000000  140.250000      80.000000      32.000000  127.250000   \n",
       "max      17.000000  199.000000     122.000000      99.000000  846.000000   \n",
       "\n",
       "              BMI  DiabetesPedigreeFunction         Age     Outcome  \n",
       "count  768.000000                768.000000  768.000000  768.000000  \n",
       "mean    31.992578                  0.471876   33.240885    0.348958  \n",
       "std      7.884160                  0.331329   11.760232    0.476951  \n",
       "min      0.000000                  0.078000   21.000000    0.000000  \n",
       "25%     27.300000                  0.243750   24.000000    0.000000  \n",
       "50%     32.000000                  0.372500   29.000000    0.000000  \n",
       "75%     36.600000                  0.626250   41.000000    1.000000  \n",
       "max     67.100000                  2.420000   81.000000    1.000000  "
      ]
     },
     "execution_count": 7,
     "metadata": {},
     "output_type": "execute_result"
    }
   ],
   "source": [
    "df.describe()"
   ]
  },
  {
   "cell_type": "code",
   "execution_count": 8,
   "id": "7155b189",
   "metadata": {
    "execution": {
     "iopub.execute_input": "2022-02-14T00:56:03.768350Z",
     "iopub.status.busy": "2022-02-14T00:56:03.767535Z",
     "iopub.status.idle": "2022-02-14T00:56:03.775518Z",
     "shell.execute_reply": "2022-02-14T00:56:03.776072Z",
     "shell.execute_reply.started": "2022-02-14T00:27:22.595120Z"
    },
    "papermill": {
     "duration": 0.03011,
     "end_time": "2022-02-14T00:56:03.776286",
     "exception": false,
     "start_time": "2022-02-14T00:56:03.746176",
     "status": "completed"
    },
    "tags": []
   },
   "outputs": [
    {
     "data": {
      "text/plain": [
       "Pregnancies                 0\n",
       "Glucose                     0\n",
       "BloodPressure               0\n",
       "SkinThickness               0\n",
       "Insulin                     0\n",
       "BMI                         0\n",
       "DiabetesPedigreeFunction    0\n",
       "Age                         0\n",
       "Outcome                     0\n",
       "dtype: int64"
      ]
     },
     "execution_count": 8,
     "metadata": {},
     "output_type": "execute_result"
    }
   ],
   "source": [
    "df.isnull().sum()"
   ]
  },
  {
   "cell_type": "markdown",
   "id": "24ec9615",
   "metadata": {
    "papermill": {
     "duration": 0.018935,
     "end_time": "2022-02-14T00:56:03.814085",
     "exception": false,
     "start_time": "2022-02-14T00:56:03.795150",
     "status": "completed"
    },
    "tags": []
   },
   "source": [
    "* So no missing values for any column"
   ]
  },
  {
   "cell_type": "code",
   "execution_count": 9,
   "id": "83b14d8d",
   "metadata": {
    "execution": {
     "iopub.execute_input": "2022-02-14T00:56:03.855193Z",
     "iopub.status.busy": "2022-02-14T00:56:03.854434Z",
     "iopub.status.idle": "2022-02-14T00:56:03.858627Z",
     "shell.execute_reply": "2022-02-14T00:56:03.859196Z",
     "shell.execute_reply.started": "2022-02-14T00:38:48.669509Z"
    },
    "papermill": {
     "duration": 0.026925,
     "end_time": "2022-02-14T00:56:03.859483",
     "exception": false,
     "start_time": "2022-02-14T00:56:03.832558",
     "status": "completed"
    },
    "tags": []
   },
   "outputs": [
    {
     "data": {
      "text/plain": [
       "pandas.core.indexes.base.Index"
      ]
     },
     "execution_count": 9,
     "metadata": {},
     "output_type": "execute_result"
    }
   ],
   "source": [
    "type(df.columns)"
   ]
  },
  {
   "cell_type": "code",
   "execution_count": 10,
   "id": "4ac135e9",
   "metadata": {
    "execution": {
     "iopub.execute_input": "2022-02-14T00:56:03.902472Z",
     "iopub.status.busy": "2022-02-14T00:56:03.901703Z",
     "iopub.status.idle": "2022-02-14T00:56:05.130887Z",
     "shell.execute_reply": "2022-02-14T00:56:05.130315Z",
     "shell.execute_reply.started": "2022-02-14T00:41:25.417250Z"
    },
    "papermill": {
     "duration": 1.251524,
     "end_time": "2022-02-14T00:56:05.131107",
     "exception": false,
     "start_time": "2022-02-14T00:56:03.879583",
     "status": "completed"
    },
    "tags": []
   },
   "outputs": [],
   "source": [
    "import matplotlib.pyplot as plt\n",
    "import seaborn as sns"
   ]
  },
  {
   "cell_type": "code",
   "execution_count": 11,
   "id": "9e0f0ffa",
   "metadata": {
    "execution": {
     "iopub.execute_input": "2022-02-14T00:56:05.173457Z",
     "iopub.status.busy": "2022-02-14T00:56:05.172760Z",
     "iopub.status.idle": "2022-02-14T00:56:05.178114Z",
     "shell.execute_reply": "2022-02-14T00:56:05.178711Z",
     "shell.execute_reply.started": "2022-02-14T00:44:07.671958Z"
    },
    "papermill": {
     "duration": 0.028639,
     "end_time": "2022-02-14T00:56:05.178884",
     "exception": false,
     "start_time": "2022-02-14T00:56:05.150245",
     "status": "completed"
    },
    "tags": []
   },
   "outputs": [],
   "source": [
    "# function to draw a histogram given dataframe, featurre name and x axis title name\n",
    "def plot_hist(df,feature,axis_name):\n",
    "    fig,ax = plt.subplots(figsize=(6,5))\n",
    "    plt.hist(df[feature])\n",
    "    plt.xlabel(axis_name)\n",
    "    plt.show()"
   ]
  },
  {
   "cell_type": "code",
   "execution_count": 12,
   "id": "810b83a6",
   "metadata": {
    "execution": {
     "iopub.execute_input": "2022-02-14T00:56:05.219478Z",
     "iopub.status.busy": "2022-02-14T00:56:05.218830Z",
     "iopub.status.idle": "2022-02-14T00:56:07.055838Z",
     "shell.execute_reply": "2022-02-14T00:56:07.055112Z",
     "shell.execute_reply.started": "2022-02-14T00:44:08.190902Z"
    },
    "papermill": {
     "duration": 1.858531,
     "end_time": "2022-02-14T00:56:07.056010",
     "exception": false,
     "start_time": "2022-02-14T00:56:05.197479",
     "status": "completed"
    },
    "tags": []
   },
   "outputs": [
    {
     "data": {
      "image/png": "[encoded data removed]",
      "text/plain": [
       "<Figure size 432x360 with 1 Axes>"
      ]
     },
     "metadata": {
      "needs_background": "light"
     },
     "output_type": "display_data"
    },
    {
     "data": {
      "image/png": "[encoded data removed]",
      "text/plain": [
       "<Figure size 432x360 with 1 Axes>"
      ]
     },
     "metadata": {
      "needs_background": "light"
     },
     "output_type": "display_data"
    },
    {
     "data": {
      "image/png": "[encoded data removed]",
      "text/plain": [
       "<Figure size 432x360 with 1 Axes>"
      ]
     },
     "metadata": {
      "needs_background": "light"
     },
     "output_type": "display_data"
    },
    {
     "data": {
      "image/png": "[encoded data removed]",
      "text/plain": [
       "<Figure size 432x360 with 1 Axes>"
      ]
     },
     "metadata": {
      "needs_background": "light"
     },
     "output_type": "display_data"
    },
    {
     "data": {
      "image/png": "[encoded data removed]",
      "text/plain": [
       "<Figure size 432x360 with 1 Axes>"
      ]
     },
     "metadata": {
      "needs_background": "light"
     },
     "output_type": "display_data"
    },
    {
     "data": {
      "image/png": "[encoded data removed]",
      "text/plain": [
       "<Figure size 432x360 with 1 Axes>"
      ]
     },
     "metadata": {
      "needs_background": "light"
     },
     "output_type": "display_data"
    },
    {
     "data": {
      "image/png": "[encoded data removed]",
      "text/plain": [
       "<Figure size 432x360 with 1 Axes>"
      ]
     },
     "metadata": {
      "needs_background": "light"
     },
     "output_type": "display_data"
    },
    {
     "data": {
      "image/png": "[encoded data removed]",
      "text/plain": [
       "<Figure size 432x360 with 1 Axes>"
      ]
     },
     "metadata": {
      "needs_background": "light"
     },
     "output_type": "display_data"
    },
    {
     "data": {
      "image/png": "[encoded data removed]",
      "text/plain": [
       "<Figure size 432x360 with 1 Axes>"
      ]
     },
     "metadata": {
      "needs_background": "light"
     },
     "output_type": "display_data"
    }
   ],
   "source": [
    "for i in df.columns:\n",
    "    plot_hist(df,i,i)\n",
    "    \n",
    "    "
   ]
  },
  {
   "cell_type": "code",
   "execution_count": 13,
   "id": "6556c70e",
   "metadata": {
    "execution": {
     "iopub.execute_input": "2022-02-14T00:56:07.118408Z",
     "iopub.status.busy": "2022-02-14T00:56:07.116706Z",
     "iopub.status.idle": "2022-02-14T00:56:08.122069Z",
     "shell.execute_reply": "2022-02-14T00:56:08.121417Z",
     "shell.execute_reply.started": "2022-02-14T00:47:24.338316Z"
    },
    "papermill": {
     "duration": 1.03856,
     "end_time": "2022-02-14T00:56:08.122218",
     "exception": false,
     "start_time": "2022-02-14T00:56:07.083658",
     "status": "completed"
    },
    "tags": []
   },
   "outputs": [
    {
     "data": {
      "image/png": "[encoded data removed]",
      "text/plain": [
       "<Figure size 1152x576 with 2 Axes>"
      ]
     },
     "metadata": {
      "needs_background": "light"
     },
     "output_type": "display_data"
    }
   ],
   "source": [
    "plt.figure(figsize=(16, 8))\n",
    "heatmap = sns.heatmap(df.corr(), vmin=-1, vmax=1, annot=True)\n",
    "heatmap.set_title('Correlation Heatmap', fontdict={'fontsize':12}, pad=12);"
   ]
  },
  {
   "cell_type": "code",
   "execution_count": null,
   "id": "f05d33b3",
   "metadata": {
    "papermill": {
     "duration": 0.027464,
     "end_time": "2022-02-14T00:56:08.177415",
     "exception": false,
     "start_time": "2022-02-14T00:56:08.149951",
     "status": "completed"
    },
    "tags": []
   },
   "outputs": [],
   "source": []
  }
 ],
 "metadata": {
  "kernelspec": {
   "display_name": "Python 3",
   "language": "python",
   "name": "python3"
  },
  "language_info": {
   "codemirror_mode": {
    "name": "ipython",
    "version": 3
   },
   "file_extension": ".py",
   "mimetype": "text/x-python",
   "name": "python",
   "nbconvert_exporter": "python",
   "pygments_lexer": "ipython3",
   "version": "3.7.12"
  },
  "papermill": {
   "default_parameters": {},
   "duration": 16.944727,
   "end_time": "2022-02-14T00:56:09.116533",
   "environment_variables": {},
   "exception": null,
   "input_path": "__notebook__.ipynb",
   "output_path": "__notebook__.ipynb",
   "parameters": {},
   "start_time": "2022-02-14T00:55:52.171806",
   "version": "2.3.3"
  }
 },
 "nbformat": 4,
 "nbformat_minor": 5
}
