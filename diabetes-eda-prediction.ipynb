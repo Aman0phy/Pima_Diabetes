{
 "cells": [
  {
   "cell_type": "code",
   "execution_count": 1,
   "id": "6b674857",
   "metadata": {
    "_cell_guid": "b1076dfc-b9ad-4769-8c92-a6c4dae69d19",
    "_uuid": "8f2839f25d086af736a60e9eeb907d3b93b6e0e5",
    "execution": {
     "iopub.execute_input": "2022-03-27T19:03:01.248643Z",
     "iopub.status.busy": "2022-03-27T19:03:01.247407Z",
     "iopub.status.idle": "2022-03-27T19:03:01.262875Z",
     "shell.execute_reply": "2022-03-27T19:03:01.263521Z",
     "shell.execute_reply.started": "2022-03-27T18:57:28.672663Z"
    },
    "papermill": {
     "duration": 0.099352,
     "end_time": "2022-03-27T19:03:01.263835",
     "exception": false,
     "start_time": "2022-03-27T19:03:01.164483",
     "status": "completed"
    },
    "tags": []
   },
   "outputs": [
    {
     "name": "stdout",
     "output_type": "stream",
     "text": [
      "/kaggle/input/pima-indians-diabetes-database/diabetes.csv\n"
     ]
    }
   ],
   "source": [
    "# This Python 3 environment comes with many helpful analytics libraries installed\n",
    "# It is defined by the kaggle/python Docker image: https://github.com/kaggle/docker-python\n",
    "# For example, here's several helpful packages to load\n",
    "\n",
    "import numpy as np # linear algebra\n",
    "import pandas as pd # data processing, CSV file I/O (e.g. pd.read_csv)\n",
    "\n",
    "# Input data files are available in the read-only \"../input/\" directory\n",
    "# For example, running this (by clicking run or pressing Shift+Enter) will list all files under the input directory\n",
    "\n",
    "import os\n",
    "for dirname, _, filenames in os.walk('/kaggle/input'):\n",
    "    for filename in filenames:\n",
    "        print(os.path.join(dirname, filename))\n",
    "\n",
    "# You can write up to 20GB to the current directory (/kaggle/working/) that gets preserved as output when you create a version using \"Save & Run All\" \n",
    "# You can also write temporary files to /kaggle/temp/, but they won't be saved outside of the current session"
   ]
  },
  {
   "cell_type": "code",
   "execution_count": 2,
   "id": "a7a72c5e",
   "metadata": {
    "execution": {
     "iopub.execute_input": "2022-03-27T19:03:01.420627Z",
     "iopub.status.busy": "2022-03-27T19:03:01.419833Z",
     "iopub.status.idle": "2022-03-27T19:03:02.790134Z",
     "shell.execute_reply": "2022-03-27T19:03:02.790677Z",
     "shell.execute_reply.started": "2022-03-27T18:57:28.690477Z"
    },
    "papermill": {
     "duration": 1.446669,
     "end_time": "2022-03-27T19:03:02.790855",
     "exception": false,
     "start_time": "2022-03-27T19:03:01.344186",
     "status": "completed"
    },
    "tags": []
   },
   "outputs": [],
   "source": [
    "import pandas as pd\n",
    "import matplotlib.pyplot as plt\n",
    "import seaborn as sns"
   ]
  },
  {
   "cell_type": "code",
   "execution_count": 3,
   "id": "00b3bbad",
   "metadata": {
    "execution": {
     "iopub.execute_input": "2022-03-27T19:03:02.947897Z",
     "iopub.status.busy": "2022-03-27T19:03:02.946982Z",
     "iopub.status.idle": "2022-03-27T19:03:02.963204Z",
     "shell.execute_reply": "2022-03-27T19:03:02.963824Z",
     "shell.execute_reply.started": "2022-03-27T18:57:29.246098Z"
    },
    "papermill": {
     "duration": 0.09648,
     "end_time": "2022-03-27T19:03:02.964047",
     "exception": false,
     "start_time": "2022-03-27T19:03:02.867567",
     "status": "completed"
    },
    "tags": []
   },
   "outputs": [],
   "source": [
    "df = pd.read_csv('/kaggle/input/pima-indians-diabetes-database/diabetes.csv')"
   ]
  },
  {
   "cell_type": "code",
   "execution_count": 4,
   "id": "964df225",
   "metadata": {
    "execution": {
     "iopub.execute_input": "2022-03-27T19:03:03.116812Z",
     "iopub.status.busy": "2022-03-27T19:03:03.116045Z",
     "iopub.status.idle": "2022-03-27T19:03:03.135183Z",
     "shell.execute_reply": "2022-03-27T19:03:03.134584Z",
     "shell.execute_reply.started": "2022-03-27T18:57:29.257420Z"
    },
    "papermill": {
     "duration": 0.100741,
     "end_time": "2022-03-27T19:03:03.135337",
     "exception": false,
     "start_time": "2022-03-27T19:03:03.034596",
     "status": "completed"
    },
    "tags": []
   },
   "outputs": [
    {
     "data": {
      "text/html": [
       "<div>\n",
       "<style scoped>\n",
       "    .dataframe tbody tr th:only-of-type {\n",
       "        vertical-align: middle;\n",
       "    }\n",
       "\n",
       "    .dataframe tbody tr th {\n",
       "        vertical-align: top;\n",
       "    }\n",
       "\n",
       "    .dataframe thead th {\n",
       "        text-align: right;\n",
       "    }\n",
       "</style>\n",
       "<table border=\"1\" class=\"dataframe\">\n",
       "  <thead>\n",
       "    <tr style=\"text-align: right;\">\n",
       "      <th></th>\n",
       "      <th>Pregnancies</th>\n",
       "      <th>Glucose</th>\n",
       "      <th>BloodPressure</th>\n",
       "      <th>SkinThickness</th>\n",
       "      <th>Insulin</th>\n",
       "      <th>BMI</th>\n",
       "      <th>DiabetesPedigreeFunction</th>\n",
       "      <th>Age</th>\n",
       "      <th>Outcome</th>\n",
       "    </tr>\n",
       "  </thead>\n",
       "  <tbody>\n",
       "    <tr>\n",
       "      <th>0</th>\n",
       "      <td>6</td>\n",
       "      <td>148</td>\n",
       "      <td>72</td>\n",
       "      <td>35</td>\n",
       "      <td>0</td>\n",
       "      <td>33.6</td>\n",
       "      <td>0.627</td>\n",
       "      <td>50</td>\n",
       "      <td>1</td>\n",
       "    </tr>\n",
       "    <tr>\n",
       "      <th>1</th>\n",
       "      <td>1</td>\n",
       "      <td>85</td>\n",
       "      <td>66</td>\n",
       "      <td>29</td>\n",
       "      <td>0</td>\n",
       "      <td>26.6</td>\n",
       "      <td>0.351</td>\n",
       "      <td>31</td>\n",
       "      <td>0</td>\n",
       "    </tr>\n",
       "    <tr>\n",
       "      <th>2</th>\n",
       "      <td>8</td>\n",
       "      <td>183</td>\n",
       "      <td>64</td>\n",
       "      <td>0</td>\n",
       "      <td>0</td>\n",
       "      <td>23.3</td>\n",
       "      <td>0.672</td>\n",
       "      <td>32</td>\n",
       "      <td>1</td>\n",
       "    </tr>\n",
       "  </tbody>\n",
       "</table>\n",
       "</div>"
      ],
      "text/plain": [
       "   Pregnancies  Glucose  BloodPressure  SkinThickness  Insulin   BMI  \\\n",
       "0            6      148             72             35        0  33.6   \n",
       "1            1       85             66             29        0  26.6   \n",
       "2            8      183             64              0        0  23.3   \n",
       "\n",
       "   DiabetesPedigreeFunction  Age  Outcome  \n",
       "0                     0.627   50        1  \n",
       "1                     0.351   31        0  \n",
       "2                     0.672   32        1  "
      ]
     },
     "execution_count": 4,
     "metadata": {},
     "output_type": "execute_result"
    }
   ],
   "source": [
    "df.head(3)"
   ]
  },
  {
   "cell_type": "code",
   "execution_count": 5,
   "id": "f6407376",
   "metadata": {
    "execution": {
     "iopub.execute_input": "2022-03-27T19:03:03.291514Z",
     "iopub.status.busy": "2022-03-27T19:03:03.290822Z",
     "iopub.status.idle": "2022-03-27T19:03:03.297665Z",
     "shell.execute_reply": "2022-03-27T19:03:03.298178Z",
     "shell.execute_reply.started": "2022-03-27T18:57:29.281168Z"
    },
    "papermill": {
     "duration": 0.0892,
     "end_time": "2022-03-27T19:03:03.298349",
     "exception": false,
     "start_time": "2022-03-27T19:03:03.209149",
     "status": "completed"
    },
    "tags": []
   },
   "outputs": [
    {
     "data": {
      "text/plain": [
       "Pregnancies                   int64\n",
       "Glucose                       int64\n",
       "BloodPressure                 int64\n",
       "SkinThickness                 int64\n",
       "Insulin                       int64\n",
       "BMI                         float64\n",
       "DiabetesPedigreeFunction    float64\n",
       "Age                           int64\n",
       "Outcome                       int64\n",
       "dtype: object"
      ]
     },
     "execution_count": 5,
     "metadata": {},
     "output_type": "execute_result"
    }
   ],
   "source": [
    "df.dtypes"
   ]
  },
  {
   "cell_type": "code",
   "execution_count": 6,
   "id": "c97ad719",
   "metadata": {
    "execution": {
     "iopub.execute_input": "2022-03-27T19:03:03.461858Z",
     "iopub.status.busy": "2022-03-27T19:03:03.461181Z",
     "iopub.status.idle": "2022-03-27T19:03:03.486616Z",
     "shell.execute_reply": "2022-03-27T19:03:03.487179Z",
     "shell.execute_reply.started": "2022-03-27T18:57:29.290563Z"
    },
    "papermill": {
     "duration": 0.112523,
     "end_time": "2022-03-27T19:03:03.487372",
     "exception": false,
     "start_time": "2022-03-27T19:03:03.374849",
     "status": "completed"
    },
    "tags": []
   },
   "outputs": [
    {
     "name": "stdout",
     "output_type": "stream",
     "text": [
      "<class 'pandas.core.frame.DataFrame'>\n",
      "RangeIndex: 768 entries, 0 to 767\n",
      "Data columns (total 9 columns):\n",
      " #   Column                    Non-Null Count  Dtype  \n",
      "---  ------                    --------------  -----  \n",
      " 0   Pregnancies               768 non-null    int64  \n",
      " 1   Glucose                   768 non-null    int64  \n",
      " 2   BloodPressure             768 non-null    int64  \n",
      " 3   SkinThickness             768 non-null    int64  \n",
      " 4   Insulin                   768 non-null    int64  \n",
      " 5   BMI                       768 non-null    float64\n",
      " 6   DiabetesPedigreeFunction  768 non-null    float64\n",
      " 7   Age                       768 non-null    int64  \n",
      " 8   Outcome                   768 non-null    int64  \n",
      "dtypes: float64(2), int64(7)\n",
      "memory usage: 54.1 KB\n"
     ]
    }
   ],
   "source": [
    "\n",
    "df.info()"
   ]
  },
  {
   "cell_type": "code",
   "execution_count": 7,
   "id": "bb9c31ce",
   "metadata": {
    "execution": {
     "iopub.execute_input": "2022-03-27T19:03:03.646328Z",
     "iopub.status.busy": "2022-03-27T19:03:03.645047Z",
     "iopub.status.idle": "2022-03-27T19:03:03.684529Z",
     "shell.execute_reply": "2022-03-27T19:03:03.683861Z",
     "shell.execute_reply.started": "2022-03-27T18:57:29.315683Z"
    },
    "papermill": {
     "duration": 0.124542,
     "end_time": "2022-03-27T19:03:03.684678",
     "exception": false,
     "start_time": "2022-03-27T19:03:03.560136",
     "status": "completed"
    },
    "tags": []
   },
   "outputs": [
    {
     "data": {
      "text/html": [
       "<div>\n",
       "<style scoped>\n",
       "    .dataframe tbody tr th:only-of-type {\n",
       "        vertical-align: middle;\n",
       "    }\n",
       "\n",
       "    .dataframe tbody tr th {\n",
       "        vertical-align: top;\n",
       "    }\n",
       "\n",
       "    .dataframe thead th {\n",
       "        text-align: right;\n",
       "    }\n",
       "</style>\n",
       "<table border=\"1\" class=\"dataframe\">\n",
       "  <thead>\n",
       "    <tr style=\"text-align: right;\">\n",
       "      <th></th>\n",
       "      <th>Pregnancies</th>\n",
       "      <th>Glucose</th>\n",
       "      <th>BloodPressure</th>\n",
       "      <th>SkinThickness</th>\n",
       "      <th>Insulin</th>\n",
       "      <th>BMI</th>\n",
       "      <th>DiabetesPedigreeFunction</th>\n",
       "      <th>Age</th>\n",
       "      <th>Outcome</th>\n",
       "    </tr>\n",
       "  </thead>\n",
       "  <tbody>\n",
       "    <tr>\n",
       "      <th>count</th>\n",
       "      <td>768.000000</td>\n",
       "      <td>768.000000</td>\n",
       "      <td>768.000000</td>\n",
       "      <td>768.000000</td>\n",
       "      <td>768.000000</td>\n",
       "      <td>768.000000</td>\n",
       "      <td>768.000000</td>\n",
       "      <td>768.000000</td>\n",
       "      <td>768.000000</td>\n",
       "    </tr>\n",
       "    <tr>\n",
       "      <th>mean</th>\n",
       "      <td>3.845052</td>\n",
       "      <td>120.894531</td>\n",
       "      <td>69.105469</td>\n",
       "      <td>20.536458</td>\n",
       "      <td>79.799479</td>\n",
       "      <td>31.992578</td>\n",
       "      <td>0.471876</td>\n",
       "      <td>33.240885</td>\n",
       "      <td>0.348958</td>\n",
       "    </tr>\n",
       "    <tr>\n",
       "      <th>std</th>\n",
       "      <td>3.369578</td>\n",
       "      <td>31.972618</td>\n",
       "      <td>19.355807</td>\n",
       "      <td>15.952218</td>\n",
       "      <td>115.244002</td>\n",
       "      <td>7.884160</td>\n",
       "      <td>0.331329</td>\n",
       "      <td>11.760232</td>\n",
       "      <td>0.476951</td>\n",
       "    </tr>\n",
       "    <tr>\n",
       "      <th>min</th>\n",
       "      <td>0.000000</td>\n",
       "      <td>0.000000</td>\n",
       "      <td>0.000000</td>\n",
       "      <td>0.000000</td>\n",
       "      <td>0.000000</td>\n",
       "      <td>0.000000</td>\n",
       "      <td>0.078000</td>\n",
       "      <td>21.000000</td>\n",
       "      <td>0.000000</td>\n",
       "    </tr>\n",
       "    <tr>\n",
       "      <th>25%</th>\n",
       "      <td>1.000000</td>\n",
       "      <td>99.000000</td>\n",
       "      <td>62.000000</td>\n",
       "      <td>0.000000</td>\n",
       "      <td>0.000000</td>\n",
       "      <td>27.300000</td>\n",
       "      <td>0.243750</td>\n",
       "      <td>24.000000</td>\n",
       "      <td>0.000000</td>\n",
       "    </tr>\n",
       "    <tr>\n",
       "      <th>50%</th>\n",
       "      <td>3.000000</td>\n",
       "      <td>117.000000</td>\n",
       "      <td>72.000000</td>\n",
       "      <td>23.000000</td>\n",
       "      <td>30.500000</td>\n",
       "      <td>32.000000</td>\n",
       "      <td>0.372500</td>\n",
       "      <td>29.000000</td>\n",
       "      <td>0.000000</td>\n",
       "    </tr>\n",
       "    <tr>\n",
       "      <th>75%</th>\n",
       "      <td>6.000000</td>\n",
       "      <td>140.250000</td>\n",
       "      <td>80.000000</td>\n",
       "      <td>32.000000</td>\n",
       "      <td>127.250000</td>\n",
       "      <td>36.600000</td>\n",
       "      <td>0.626250</td>\n",
       "      <td>41.000000</td>\n",
       "      <td>1.000000</td>\n",
       "    </tr>\n",
       "    <tr>\n",
       "      <th>max</th>\n",
       "      <td>17.000000</td>\n",
       "      <td>199.000000</td>\n",
       "      <td>122.000000</td>\n",
       "      <td>99.000000</td>\n",
       "      <td>846.000000</td>\n",
       "      <td>67.100000</td>\n",
       "      <td>2.420000</td>\n",
       "      <td>81.000000</td>\n",
       "      <td>1.000000</td>\n",
       "    </tr>\n",
       "  </tbody>\n",
       "</table>\n",
       "</div>"
      ],
      "text/plain": [
       "       Pregnancies     Glucose  BloodPressure  SkinThickness     Insulin  \\\n",
       "count   768.000000  768.000000     768.000000     768.000000  768.000000   \n",
       "mean      3.845052  120.894531      69.105469      20.536458   79.799479   \n",
       "std       3.369578   31.972618      19.355807      15.952218  115.244002   \n",
       "min       0.000000    0.000000       0.000000       0.000000    0.000000   \n",
       "25%       1.000000   99.000000      62.000000       0.000000    0.000000   \n",
       "50%       3.000000  117.000000      72.000000      23.000000   30.500000   \n",
       "75%       6.000000  140.250000      80.000000      32.000000  127.250000   \n",
       "max      17.000000  199.000000     122.000000      99.000000  846.000000   \n",
       "\n",
       "              BMI  DiabetesPedigreeFunction         Age     Outcome  \n",
       "count  768.000000                768.000000  768.000000  768.000000  \n",
       "mean    31.992578                  0.471876   33.240885    0.348958  \n",
       "std      7.884160                  0.331329   11.760232    0.476951  \n",
       "min      0.000000                  0.078000   21.000000    0.000000  \n",
       "25%     27.300000                  0.243750   24.000000    0.000000  \n",
       "50%     32.000000                  0.372500   29.000000    0.000000  \n",
       "75%     36.600000                  0.626250   41.000000    1.000000  \n",
       "max     67.100000                  2.420000   81.000000    1.000000  "
      ]
     },
     "execution_count": 7,
     "metadata": {},
     "output_type": "execute_result"
    }
   ],
   "source": [
    "df.describe()"
   ]
  },
  {
   "cell_type": "code",
   "execution_count": 8,
   "id": "8e213a09",
   "metadata": {
    "execution": {
     "iopub.execute_input": "2022-03-27T19:03:03.836503Z",
     "iopub.status.busy": "2022-03-27T19:03:03.835700Z",
     "iopub.status.idle": "2022-03-27T19:03:03.839627Z",
     "shell.execute_reply": "2022-03-27T19:03:03.840197Z",
     "shell.execute_reply.started": "2022-03-27T18:57:29.358005Z"
    },
    "papermill": {
     "duration": 0.082733,
     "end_time": "2022-03-27T19:03:03.840388",
     "exception": false,
     "start_time": "2022-03-27T19:03:03.757655",
     "status": "completed"
    },
    "tags": []
   },
   "outputs": [],
   "source": [
    "# function to draw a histogram given dataframe, featurre name and x axis title name\n",
    "def plot_hist(df,feature,axis_name):\n",
    "    fig,ax = plt.subplots(figsize=(6,5))\n",
    "    plt.hist(df[feature],bins=50)\n",
    "    plt.xlabel(axis_name)\n",
    "    plt.show()"
   ]
  },
  {
   "cell_type": "code",
   "execution_count": 9,
   "id": "d8e7b9f1",
   "metadata": {
    "execution": {
     "iopub.execute_input": "2022-03-27T19:03:03.995571Z",
     "iopub.status.busy": "2022-03-27T19:03:03.994858Z",
     "iopub.status.idle": "2022-03-27T19:03:06.239894Z",
     "shell.execute_reply": "2022-03-27T19:03:06.240715Z",
     "shell.execute_reply.started": "2022-03-27T18:57:29.366053Z"
    },
    "papermill": {
     "duration": 2.321953,
     "end_time": "2022-03-27T19:03:06.240909",
     "exception": false,
     "start_time": "2022-03-27T19:03:03.918956",
     "status": "completed"
    },
    "tags": []
   },
   "outputs": [
    {
     "data": {
      "image/png": "[encoded data removed]",
      "text/plain": [
       "<Figure size 864x936 with 9 Axes>"
      ]
     },
     "metadata": {
      "needs_background": "light"
     },
     "output_type": "display_data"
    }
   ],
   "source": [
    "df.hist(figsize=(12,13),bins=50)\n",
    "plt.show()    \n",
    "    "
   ]
  },
  {
   "cell_type": "code",
   "execution_count": 10,
   "id": "6d792752",
   "metadata": {
    "execution": {
     "iopub.execute_input": "2022-03-27T19:03:06.399450Z",
     "iopub.status.busy": "2022-03-27T19:03:06.398455Z",
     "iopub.status.idle": "2022-03-27T19:03:06.401203Z",
     "shell.execute_reply": "2022-03-27T19:03:06.400661Z",
     "shell.execute_reply.started": "2022-03-27T18:57:31.394918Z"
    },
    "papermill": {
     "duration": 0.085168,
     "end_time": "2022-03-27T19:03:06.401353",
     "exception": false,
     "start_time": "2022-03-27T19:03:06.316185",
     "status": "completed"
    },
    "tags": []
   },
   "outputs": [],
   "source": [
    "# Stoppinig the ooutliers and missing values\n",
    "# here enters coommon sense and domain knowledge\n",
    "# frrmo the output of describe and above histograms, we need to carefully check if the distributions make sense"
   ]
  },
  {
   "cell_type": "markdown",
   "id": "f65f27dd",
   "metadata": {
    "papermill": {
     "duration": 0.073599,
     "end_time": "2022-03-27T19:03:06.546201",
     "exception": false,
     "start_time": "2022-03-27T19:03:06.472602",
     "status": "completed"
    },
    "tags": []
   },
   "source": [
    "## in our data following variables can't have zero value:\n",
    "\n",
    "* BMI\n",
    "* Insulin\n",
    "* Skin thickness\n",
    "* Blood pressure\n",
    "* Glucose\n",
    "\n",
    "Any of these zero means a person is dead <br>\n",
    "It means these are missing values <br>\n",
    "Let's see how many missing values does each of these columns have\n"
   ]
  },
  {
   "cell_type": "markdown",
   "id": "e5246e91",
   "metadata": {
    "papermill": {
     "duration": 0.079337,
     "end_time": "2022-03-27T19:03:06.699154",
     "exception": false,
     "start_time": "2022-03-27T19:03:06.619817",
     "status": "completed"
    },
    "tags": []
   },
   "source": []
  },
  {
   "cell_type": "code",
   "execution_count": 11,
   "id": "0c77ec74",
   "metadata": {
    "execution": {
     "iopub.execute_input": "2022-03-27T19:03:06.860628Z",
     "iopub.status.busy": "2022-03-27T19:03:06.854420Z",
     "iopub.status.idle": "2022-03-27T19:03:06.867023Z",
     "shell.execute_reply": "2022-03-27T19:03:06.866455Z",
     "shell.execute_reply.started": "2022-03-27T18:57:31.401944Z"
    },
    "papermill": {
     "duration": 0.092721,
     "end_time": "2022-03-27T19:03:06.867217",
     "exception": false,
     "start_time": "2022-03-27T19:03:06.774496",
     "status": "completed"
    },
    "tags": []
   },
   "outputs": [
    {
     "name": "stdout",
     "output_type": "stream",
     "text": [
      "feature name   Missing Values      % missing values\n",
      "Glucose        5                    0.65\n",
      "BloodPressure  35                   4.56\n",
      "SkinThickness  227                  29.56\n",
      "Insulin        374                  48.70\n",
      "BMI            11                   1.43\n"
     ]
    }
   ],
   "source": [
    "# making a list of columns with missing values\n",
    "ms_col = ['Glucose','BloodPressure','SkinThickness','Insulin','BMI']\n",
    "print(f\"{'feature name': <15}{'Missing Values':<20}{'% missing values':<10}\")\n",
    "for i in ms_col:\n",
    "    print(f\"{i: <15}{(df[i]==0).sum():<20}{(((df[i]==0).sum())*100)/df.shape[0]: .2f}\")"
   ]
  },
  {
   "cell_type": "markdown",
   "id": "4e5edf0f",
   "metadata": {
    "papermill": {
     "duration": 0.077371,
     "end_time": "2022-03-27T19:03:07.022082",
     "exception": false,
     "start_time": "2022-03-27T19:03:06.944711",
     "status": "completed"
    },
    "tags": []
   },
   "source": [
    "## What to do with these missing values ?\n",
    "For the features Insulin, Skin Thickness a big fraction of values is missing <br>\n",
    "We can't just delete the rows with missing values\n"
   ]
  },
  {
   "cell_type": "markdown",
   "id": "254b9dcf",
   "metadata": {
    "papermill": {
     "duration": 0.074209,
     "end_time": "2022-03-27T19:03:07.172526",
     "exception": false,
     "start_time": "2022-03-27T19:03:07.098317",
     "status": "completed"
    },
    "tags": []
   },
   "source": [
    "## Let's first plot the  distribution of outcome for each feature when the value is misssing,\n",
    "we want to check if they are not biased for a particular outcome, especially for insulin and skin thicknesss "
   ]
  },
  {
   "cell_type": "code",
   "execution_count": 12,
   "id": "b352d668",
   "metadata": {
    "execution": {
     "iopub.execute_input": "2022-03-27T19:03:07.322715Z",
     "iopub.status.busy": "2022-03-27T19:03:07.322026Z",
     "iopub.status.idle": "2022-03-27T19:03:08.394620Z",
     "shell.execute_reply": "2022-03-27T19:03:08.393616Z",
     "shell.execute_reply.started": "2022-03-27T18:57:31.422021Z"
    },
    "papermill": {
     "duration": 1.148655,
     "end_time": "2022-03-27T19:03:08.394793",
     "exception": false,
     "start_time": "2022-03-27T19:03:07.246138",
     "status": "completed"
    },
    "tags": []
   },
   "outputs": [
    {
     "data": {
      "image/png": "[encoded data removed]",
      "text/plain": [
       "<Figure size 864x576 with 6 Axes>"
      ]
     },
     "metadata": {
      "needs_background": "light"
     },
     "output_type": "display_data"
    }
   ],
   "source": [
    "fig,ax = plt.subplots(2,3,figsize=(12,8))\n",
    "ax = ax.ravel()\n",
    "j =0\n",
    "for i in ms_col:\n",
    "    df[df[i]==0]['Outcome'].hist(ax=ax[j])\n",
    "    ax[j].set_title(i)\n",
    "    j=j+1"
   ]
  },
  {
   "cell_type": "markdown",
   "id": "1c838c1a",
   "metadata": {
    "papermill": {
     "duration": 0.095986,
     "end_time": "2022-03-27T19:03:08.571272",
     "exception": false,
     "start_time": "2022-03-27T19:03:08.475286",
     "status": "completed"
    },
    "tags": []
   },
   "source": [
    "In both the cases, Skin thickness and insulin. The outcome 0 (no diabetes) has more missing data than outcome 1 (diabetess). In fact the pattern is consistent for all the feature variables with misssing values"
   ]
  },
  {
   "cell_type": "code",
   "execution_count": 13,
   "id": "ad9f9901",
   "metadata": {
    "execution": {
     "iopub.execute_input": "2022-03-27T19:03:08.741960Z",
     "iopub.status.busy": "2022-03-27T19:03:08.741321Z",
     "iopub.status.idle": "2022-03-27T19:03:09.640013Z",
     "shell.execute_reply": "2022-03-27T19:03:09.639411Z",
     "shell.execute_reply.started": "2022-03-27T18:57:32.305875Z"
    },
    "papermill": {
     "duration": 0.983127,
     "end_time": "2022-03-27T19:03:09.640196",
     "exception": false,
     "start_time": "2022-03-27T19:03:08.657069",
     "status": "completed"
    },
    "tags": []
   },
   "outputs": [
    {
     "data": {
      "image/png": "[encoded data removed]",
      "text/plain": [
       "<Figure size 1152x576 with 2 Axes>"
      ]
     },
     "metadata": {
      "needs_background": "light"
     },
     "output_type": "display_data"
    }
   ],
   "source": [
    "plt.figure(figsize=(16, 8))\n",
    "heatmap = sns.heatmap(df.corr(), vmin=-1, vmax=1, annot=True)\n",
    "heatmap.set_title('Correlation Heatmap', fontdict={'fontsize':12}, pad=12);"
   ]
  },
  {
   "cell_type": "markdown",
   "id": "f1403c07",
   "metadata": {
    "papermill": {
     "duration": 0.076445,
     "end_time": "2022-03-27T19:03:09.803912",
     "exception": false,
     "start_time": "2022-03-27T19:03:09.727467",
     "status": "completed"
    },
    "tags": []
   },
   "source": [
    "* Lets replace the missing values, we will replace the missing values with target value 0 with the median of dataset with target value 0\n",
    "* we will replace the missing values with target value 1 with the median of dataset with target value 1\n",
    "* Before replacing the missing values with median we replace the zeros with nan so that the median calculation doesn't consider zero\n"
   ]
  },
  {
   "cell_type": "code",
   "execution_count": 14,
   "id": "13489d33",
   "metadata": {
    "execution": {
     "iopub.execute_input": "2022-03-27T19:03:09.970929Z",
     "iopub.status.busy": "2022-03-27T19:03:09.970171Z",
     "iopub.status.idle": "2022-03-27T19:03:09.973331Z",
     "shell.execute_reply": "2022-03-27T19:03:09.972751Z",
     "shell.execute_reply.started": "2022-03-27T18:57:33.052182Z"
    },
    "papermill": {
     "duration": 0.086424,
     "end_time": "2022-03-27T19:03:09.973483",
     "exception": false,
     "start_time": "2022-03-27T19:03:09.887059",
     "status": "completed"
    },
    "tags": []
   },
   "outputs": [],
   "source": [
    "# to keep a copy of old df\n",
    "dfold = df.copy()"
   ]
  },
  {
   "cell_type": "code",
   "execution_count": 15,
   "id": "77c7cacb",
   "metadata": {
    "execution": {
     "iopub.execute_input": "2022-03-27T19:03:10.145996Z",
     "iopub.status.busy": "2022-03-27T19:03:10.144284Z",
     "iopub.status.idle": "2022-03-27T19:03:10.167989Z",
     "shell.execute_reply": "2022-03-27T19:03:10.168647Z",
     "shell.execute_reply.started": "2022-03-27T18:57:33.058042Z"
    },
    "papermill": {
     "duration": 0.109841,
     "end_time": "2022-03-27T19:03:10.168847",
     "exception": false,
     "start_time": "2022-03-27T19:03:10.059006",
     "status": "completed"
    },
    "tags": []
   },
   "outputs": [],
   "source": [
    "for i in ms_col:\n",
    "    df.loc[(df['Outcome']==0) & (df[i]==0), i] = df[(df['Outcome']==0) & (df[i]!=0)][i].median()\n",
    "    df.loc[(df['Outcome']==1) & (df[i]==0), i] = df[(df['Outcome']==1) & (df[i]!=0)][i].median()"
   ]
  },
  {
   "cell_type": "code",
   "execution_count": 16,
   "id": "b77d33b9",
   "metadata": {
    "execution": {
     "iopub.execute_input": "2022-03-27T19:03:10.346884Z",
     "iopub.status.busy": "2022-03-27T19:03:10.346178Z",
     "iopub.status.idle": "2022-03-27T19:03:10.352512Z",
     "shell.execute_reply": "2022-03-27T19:03:10.353048Z",
     "shell.execute_reply.started": "2022-03-27T18:57:33.094941Z"
    },
    "papermill": {
     "duration": 0.099901,
     "end_time": "2022-03-27T19:03:10.353246",
     "exception": false,
     "start_time": "2022-03-27T19:03:10.253345",
     "status": "completed"
    },
    "tags": []
   },
   "outputs": [
    {
     "name": "stdout",
     "output_type": "stream",
     "text": [
      "feature name   Missing Values      % missing values\n",
      "Glucose        0                    0.00\n",
      "BloodPressure  0                    0.00\n",
      "SkinThickness  0                    0.00\n",
      "Insulin        0                    0.00\n",
      "BMI            0                    0.00\n"
     ]
    }
   ],
   "source": [
    "# checking if the missing values remain \n",
    "print(f\"{'feature name': <15}{'Missing Values':<20}{'% missing values':<10}\")\n",
    "for i in ms_col:\n",
    "    print(f\"{i: <15}{(df[i]==0).sum():<20}{(((df[i]==0).sum())*100)/df.shape[0]: .2f}\")"
   ]
  },
  {
   "cell_type": "code",
   "execution_count": 17,
   "id": "b5c1cb11",
   "metadata": {
    "execution": {
     "iopub.execute_input": "2022-03-27T19:03:10.524579Z",
     "iopub.status.busy": "2022-03-27T19:03:10.523820Z",
     "iopub.status.idle": "2022-03-27T19:03:11.706986Z",
     "shell.execute_reply": "2022-03-27T19:03:11.707561Z",
     "shell.execute_reply.started": "2022-03-27T18:57:33.108101Z"
    },
    "papermill": {
     "duration": 1.271555,
     "end_time": "2022-03-27T19:03:11.707782",
     "exception": false,
     "start_time": "2022-03-27T19:03:10.436227",
     "status": "completed"
    },
    "tags": []
   },
   "outputs": [
    {
     "data": {
      "image/png": "[encoded data removed]",
      "text/plain": [
       "<Figure size 1008x720 with 6 Axes>"
      ]
     },
     "metadata": {
      "needs_background": "light"
     },
     "output_type": "display_data"
    }
   ],
   "source": [
    "# Let's compare the distribution of each variable before and after replacing the missing values\n",
    "# for distributions before we won't plot the zero bin\n",
    "fig,ax = plt.subplots(2,3,figsize=(14,10))\n",
    "a=0\n",
    "ax = ax.ravel()\n",
    "for i in range(5):\n",
    "    ax[i].hist(df[ms_col[a]],label='new',bins=30,histtype='step',color='blue')\n",
    "    ax[i].hist(dfold[dfold[ms_col[a]]!=0][ms_col[a]], label='old',bins=30,histtype='step',color='red')\n",
    "    ax[i].set_xlabel(ms_col[a])\n",
    "    ax[i].set_title(ms_col[a])\n",
    "    ax[i].legend(fontsize='large')\n",
    "    a=a+1    "
   ]
  },
  {
   "cell_type": "code",
   "execution_count": 18,
   "id": "4bdc867c",
   "metadata": {
    "execution": {
     "iopub.execute_input": "2022-03-27T19:03:11.887895Z",
     "iopub.status.busy": "2022-03-27T19:03:11.887080Z",
     "iopub.status.idle": "2022-03-27T19:03:12.204325Z",
     "shell.execute_reply": "2022-03-27T19:03:12.204875Z",
     "shell.execute_reply.started": "2022-03-27T18:57:34.129570Z"
    },
    "papermill": {
     "duration": 0.406853,
     "end_time": "2022-03-27T19:03:12.205067",
     "exception": false,
     "start_time": "2022-03-27T19:03:11.798214",
     "status": "completed"
    },
    "tags": []
   },
   "outputs": [],
   "source": [
    "#okay lets now ise k fold cross validation\n",
    "# we will use k=5\n",
    "from xgboost import XGBClassifier\n"
   ]
  },
  {
   "cell_type": "code",
   "execution_count": 19,
   "id": "9bce2866",
   "metadata": {
    "execution": {
     "iopub.execute_input": "2022-03-27T19:03:12.374497Z",
     "iopub.status.busy": "2022-03-27T19:03:12.373531Z",
     "iopub.status.idle": "2022-03-27T19:03:12.385210Z",
     "shell.execute_reply": "2022-03-27T19:03:12.385691Z",
     "shell.execute_reply.started": "2022-03-27T18:57:34.208971Z"
    },
    "papermill": {
     "duration": 0.0992,
     "end_time": "2022-03-27T19:03:12.385877",
     "exception": false,
     "start_time": "2022-03-27T19:03:12.286677",
     "status": "completed"
    },
    "tags": []
   },
   "outputs": [
    {
     "data": {
      "text/plain": [
       "XGBClassifier(base_score=None, booster=None, colsample_bylevel=None,\n",
       "              colsample_bynode=None, colsample_bytree=None,\n",
       "              enable_categorical=False, gamma=None, gpu_id=None,\n",
       "              importance_type=None, interaction_constraints=None,\n",
       "              learning_rate=None, max_delta_step=None, max_depth=None,\n",
       "              min_child_weight=None, missing=nan, monotone_constraints=None,\n",
       "              n_estimators=100, n_jobs=None, num_parallel_tree=None,\n",
       "              predictor=None, random_state=None, reg_alpha=None,\n",
       "              reg_lambda=None, scale_pos_weight=None, subsample=None,\n",
       "              tree_method=None, validate_parameters=None, verbosity=None)"
      ]
     },
     "execution_count": 19,
     "metadata": {},
     "output_type": "execute_result"
    }
   ],
   "source": [
    "XGBClassifier()"
   ]
  },
  {
   "cell_type": "code",
   "execution_count": 20,
   "id": "5987f4b8",
   "metadata": {
    "execution": {
     "iopub.execute_input": "2022-03-27T19:03:12.549524Z",
     "iopub.status.busy": "2022-03-27T19:03:12.548794Z",
     "iopub.status.idle": "2022-03-27T19:03:12.554561Z",
     "shell.execute_reply": "2022-03-27T19:03:12.555089Z",
     "shell.execute_reply.started": "2022-03-27T18:57:34.218216Z"
    },
    "papermill": {
     "duration": 0.09029,
     "end_time": "2022-03-27T19:03:12.555296",
     "exception": false,
     "start_time": "2022-03-27T19:03:12.465006",
     "status": "completed"
    },
    "tags": []
   },
   "outputs": [],
   "source": [
    "#We will split our dataframe into feature matrix and target variable X , y respectively\n",
    "X=df.drop('Outcome',axis=1)\n",
    "Y=df['Outcome']"
   ]
  },
  {
   "cell_type": "code",
   "execution_count": 21,
   "id": "c9650c4f",
   "metadata": {
    "execution": {
     "iopub.execute_input": "2022-03-27T19:03:12.725214Z",
     "iopub.status.busy": "2022-03-27T19:03:12.724360Z",
     "iopub.status.idle": "2022-03-27T19:03:12.733638Z",
     "shell.execute_reply": "2022-03-27T19:03:12.734396Z",
     "shell.execute_reply.started": "2022-03-27T18:57:34.229932Z"
    },
    "papermill": {
     "duration": 0.09522,
     "end_time": "2022-03-27T19:03:12.734588",
     "exception": false,
     "start_time": "2022-03-27T19:03:12.639368",
     "status": "completed"
    },
    "tags": []
   },
   "outputs": [],
   "source": [
    "from sklearn.preprocessing import StandardScaler\n",
    "scaling_x=StandardScaler()\n",
    "X=scaling_x.fit_transform(X)\n"
   ]
  },
  {
   "cell_type": "code",
   "execution_count": 22,
   "id": "5d16d5f5",
   "metadata": {
    "execution": {
     "iopub.execute_input": "2022-03-27T19:03:12.910998Z",
     "iopub.status.busy": "2022-03-27T19:03:12.908629Z",
     "iopub.status.idle": "2022-03-27T19:03:15.384081Z",
     "shell.execute_reply": "2022-03-27T19:03:15.385315Z",
     "shell.execute_reply.started": "2022-03-27T18:57:34.245362Z"
    },
    "papermill": {
     "duration": 2.569364,
     "end_time": "2022-03-27T19:03:15.385671",
     "exception": false,
     "start_time": "2022-03-27T19:03:12.816307",
     "status": "completed"
    },
    "tags": []
   },
   "outputs": [
    {
     "name": "stderr",
     "output_type": "stream",
     "text": [
      "/opt/conda/lib/python3.7/site-packages/xgboost/sklearn.py:1224: UserWarning: The use of label encoder in XGBClassifier is deprecated and will be removed in a future release. To remove this warning, do the following: 1) Pass option use_label_encoder=False when constructing XGBClassifier object; and 2) Encode your labels (y) as integers starting with 0, i.e. 0, 1, 2, ..., [num_class - 1].\n",
      "  warnings.warn(label_encoder_deprecation_msg, UserWarning)\n"
     ]
    },
    {
     "name": "stdout",
     "output_type": "stream",
     "text": [
      "[0.87012987 0.87012987 0.8961039  0.83660131 0.90196078]\n",
      "Accuracy: 87.50% (2.32%)\n"
     ]
    }
   ],
   "source": [
    "from sklearn.model_selection import KFold\n",
    "from sklearn.model_selection import cross_val_score\n",
    "model = XGBClassifier(eval_metric='logloss')\n",
    "kfold = KFold(n_splits=5, shuffle=True, random_state=42)\n",
    "results = cross_val_score(model, X, Y, cv=kfold)\n",
    "print(results)\n",
    "print(\"Accuracy: %.2f%% (%.2f%%)\" % (results.mean()*100, results.std()*100))"
   ]
  },
  {
   "cell_type": "code",
   "execution_count": null,
   "id": "890994cf",
   "metadata": {
    "papermill": {
     "duration": 0.07674,
     "end_time": "2022-03-27T19:03:15.541026",
     "exception": false,
     "start_time": "2022-03-27T19:03:15.464286",
     "status": "completed"
    },
    "tags": []
   },
   "outputs": [],
   "source": [
    "\n",
    "\n"
   ]
  },
  {
   "cell_type": "code",
   "execution_count": 23,
   "id": "9a19ab0e",
   "metadata": {
    "execution": {
     "iopub.execute_input": "2022-03-27T19:03:15.716997Z",
     "iopub.status.busy": "2022-03-27T19:03:15.716293Z",
     "iopub.status.idle": "2022-03-27T19:03:16.185082Z",
     "shell.execute_reply": "2022-03-27T19:03:16.186323Z",
     "shell.execute_reply.started": "2022-03-27T18:57:36.472719Z"
    },
    "papermill": {
     "duration": 0.56126,
     "end_time": "2022-03-27T19:03:16.186672",
     "exception": false,
     "start_time": "2022-03-27T19:03:15.625412",
     "status": "completed"
    },
    "tags": []
   },
   "outputs": [
    {
     "name": "stderr",
     "output_type": "stream",
     "text": [
      "/opt/conda/lib/python3.7/site-packages/xgboost/sklearn.py:1224: UserWarning: The use of label encoder in XGBClassifier is deprecated and will be removed in a future release. To remove this warning, do the following: 1) Pass option use_label_encoder=False when constructing XGBClassifier object; and 2) Encode your labels (y) as integers starting with 0, i.e. 0, 1, 2, ..., [num_class - 1].\n",
      "  warnings.warn(label_encoder_deprecation_msg, UserWarning)\n"
     ]
    },
    {
     "name": "stdout",
     "output_type": "stream",
     "text": [
      "Accuracy score from train set is  1.0\n",
      "Accuracy score from test set is  0.8896103896103896\n"
     ]
    }
   ],
   "source": [
    "#lets do a simple train test split and check the accuracy\n",
    "from sklearn.model_selection import train_test_split\n",
    "\n",
    "X_train,X_test,Y_train,Y_test = train_test_split(X,Y,test_size=0.20, random_state=7,stratify=Y)\n",
    "X_train=scaling_x.fit_transform(X_train)\n",
    "X_test=scaling_x.transform(X_test)\n",
    "\n",
    "model1 = XGBClassifier(eval_metric='logloss')\n",
    "model1.fit(X_train,Y_train)\n",
    "\n",
    "print(\"Accuracy score from train set is \",model1.score(X_train, Y_train))\n",
    "print(\"Accuracy score from test set is \",model1.score(X_test, Y_test))"
   ]
  },
  {
   "cell_type": "code",
   "execution_count": 24,
   "id": "ed40072f",
   "metadata": {
    "execution": {
     "iopub.execute_input": "2022-03-27T19:03:16.350988Z",
     "iopub.status.busy": "2022-03-27T19:03:16.350316Z",
     "iopub.status.idle": "2022-03-27T19:03:16.352784Z",
     "shell.execute_reply": "2022-03-27T19:03:16.352144Z",
     "shell.execute_reply.started": "2022-03-27T18:57:36.896833Z"
    },
    "papermill": {
     "duration": 0.08652,
     "end_time": "2022-03-27T19:03:16.352924",
     "exception": false,
     "start_time": "2022-03-27T19:03:16.266404",
     "status": "completed"
    },
    "tags": []
   },
   "outputs": [],
   "source": [
    "#model1 = XGBClassifier(eval_metric='logloss')\n",
    "#model1.fit(X_train,Y_train)\n",
    "\n",
    "#print(\"Accuracy score from train set is \",model1.score(X_train, Y_train))\n",
    "#print(\"Accuracy score from test set is \",model1.score(X_test, Y_test))"
   ]
  },
  {
   "cell_type": "code",
   "execution_count": 25,
   "id": "f29f065c",
   "metadata": {
    "execution": {
     "iopub.execute_input": "2022-03-27T19:03:16.520049Z",
     "iopub.status.busy": "2022-03-27T19:03:16.518776Z",
     "iopub.status.idle": "2022-03-27T19:03:16.521666Z",
     "shell.execute_reply": "2022-03-27T19:03:16.522248Z",
     "shell.execute_reply.started": "2022-03-27T18:57:36.902930Z"
    },
    "papermill": {
     "duration": 0.088251,
     "end_time": "2022-03-27T19:03:16.522445",
     "exception": false,
     "start_time": "2022-03-27T19:03:16.434194",
     "status": "completed"
    },
    "tags": []
   },
   "outputs": [],
   "source": [
    "from xgboost import plot_importance\n"
   ]
  },
  {
   "cell_type": "code",
   "execution_count": 26,
   "id": "887ffd1d",
   "metadata": {
    "execution": {
     "iopub.execute_input": "2022-03-27T19:03:16.687879Z",
     "iopub.status.busy": "2022-03-27T19:03:16.687260Z",
     "iopub.status.idle": "2022-03-27T19:03:16.921075Z",
     "shell.execute_reply": "2022-03-27T19:03:16.920502Z",
     "shell.execute_reply.started": "2022-03-27T18:57:36.914089Z"
    },
    "papermill": {
     "duration": 0.318785,
     "end_time": "2022-03-27T19:03:16.921236",
     "exception": false,
     "start_time": "2022-03-27T19:03:16.602451",
     "status": "completed"
    },
    "tags": []
   },
   "outputs": [
    {
     "data": {
      "image/png": "[encoded data removed]",
      "text/plain": [
       "<Figure size 432x288 with 1 Axes>"
      ]
     },
     "metadata": {
      "needs_background": "light"
     },
     "output_type": "display_data"
    }
   ],
   "source": [
    "plot_importance(model1)\n",
    "plt.show()\n"
   ]
  },
  {
   "cell_type": "code",
   "execution_count": 27,
   "id": "9756c1d7",
   "metadata": {
    "execution": {
     "iopub.execute_input": "2022-03-27T19:03:17.092348Z",
     "iopub.status.busy": "2022-03-27T19:03:17.091651Z",
     "iopub.status.idle": "2022-03-27T19:03:17.307853Z",
     "shell.execute_reply": "2022-03-27T19:03:17.307334Z",
     "shell.execute_reply.started": "2022-03-27T18:57:37.089063Z"
    },
    "papermill": {
     "duration": 0.303381,
     "end_time": "2022-03-27T19:03:17.308003",
     "exception": false,
     "start_time": "2022-03-27T19:03:17.004622",
     "status": "completed"
    },
    "tags": []
   },
   "outputs": [
    {
     "data": {
      "image/png": "[encoded data removed]",
      "text/plain": [
       "<Figure size 432x288 with 1 Axes>"
      ]
     },
     "metadata": {
      "needs_background": "light"
     },
     "output_type": "display_data"
    }
   ],
   "source": [
    "plt.bar(range(len(model1.feature_importances_)), model1.feature_importances_)\n",
    "plt.show()"
   ]
  },
  {
   "cell_type": "code",
   "execution_count": 28,
   "id": "2e42cf91",
   "metadata": {
    "execution": {
     "iopub.execute_input": "2022-03-27T19:03:17.479733Z",
     "iopub.status.busy": "2022-03-27T19:03:17.478779Z",
     "iopub.status.idle": "2022-03-27T19:03:17.493907Z",
     "shell.execute_reply": "2022-03-27T19:03:17.494776Z",
     "shell.execute_reply.started": "2022-03-27T18:57:37.252275Z"
    },
    "papermill": {
     "duration": 0.103967,
     "end_time": "2022-03-27T19:03:17.494995",
     "exception": false,
     "start_time": "2022-03-27T19:03:17.391028",
     "status": "completed"
    },
    "tags": []
   },
   "outputs": [
    {
     "data": {
      "text/html": [
       "<div>\n",
       "<style scoped>\n",
       "    .dataframe tbody tr th:only-of-type {\n",
       "        vertical-align: middle;\n",
       "    }\n",
       "\n",
       "    .dataframe tbody tr th {\n",
       "        vertical-align: top;\n",
       "    }\n",
       "\n",
       "    .dataframe thead th {\n",
       "        text-align: right;\n",
       "    }\n",
       "</style>\n",
       "<table border=\"1\" class=\"dataframe\">\n",
       "  <thead>\n",
       "    <tr style=\"text-align: right;\">\n",
       "      <th></th>\n",
       "      <th>Pregnancies</th>\n",
       "      <th>Glucose</th>\n",
       "      <th>BloodPressure</th>\n",
       "      <th>SkinThickness</th>\n",
       "      <th>Insulin</th>\n",
       "      <th>BMI</th>\n",
       "      <th>DiabetesPedigreeFunction</th>\n",
       "      <th>Age</th>\n",
       "      <th>Outcome</th>\n",
       "    </tr>\n",
       "  </thead>\n",
       "  <tbody>\n",
       "    <tr>\n",
       "      <th>0</th>\n",
       "      <td>6</td>\n",
       "      <td>148</td>\n",
       "      <td>72.0</td>\n",
       "      <td>35</td>\n",
       "      <td>169.5</td>\n",
       "      <td>33.6</td>\n",
       "      <td>0.627</td>\n",
       "      <td>50</td>\n",
       "      <td>1</td>\n",
       "    </tr>\n",
       "  </tbody>\n",
       "</table>\n",
       "</div>"
      ],
      "text/plain": [
       "   Pregnancies  Glucose  BloodPressure  SkinThickness  Insulin   BMI  \\\n",
       "0            6      148           72.0             35    169.5  33.6   \n",
       "\n",
       "   DiabetesPedigreeFunction  Age  Outcome  \n",
       "0                     0.627   50        1  "
      ]
     },
     "execution_count": 28,
     "metadata": {},
     "output_type": "execute_result"
    }
   ],
   "source": [
    "df.head(1)"
   ]
  },
  {
   "cell_type": "markdown",
   "id": "692d2896",
   "metadata": {
    "papermill": {
     "duration": 0.08488,
     "end_time": "2022-03-27T19:03:17.664296",
     "exception": false,
     "start_time": "2022-03-27T19:03:17.579416",
     "status": "completed"
    },
    "tags": []
   },
   "source": [
    "Let's try a different method ,\n",
    "lets keep a test dataset completely separate out of the rows with no missing values"
   ]
  },
  {
   "cell_type": "code",
   "execution_count": 29,
   "id": "feedc221",
   "metadata": {
    "execution": {
     "iopub.execute_input": "2022-03-27T19:03:17.839714Z",
     "iopub.status.busy": "2022-03-27T19:03:17.839070Z",
     "iopub.status.idle": "2022-03-27T19:03:17.844917Z",
     "shell.execute_reply": "2022-03-27T19:03:17.845462Z",
     "shell.execute_reply.started": "2022-03-27T18:57:37.267893Z"
    },
    "papermill": {
     "duration": 0.096037,
     "end_time": "2022-03-27T19:03:17.845662",
     "exception": false,
     "start_time": "2022-03-27T19:03:17.749625",
     "status": "completed"
    },
    "tags": []
   },
   "outputs": [
    {
     "data": {
      "text/plain": [
       "['Glucose', 'BloodPressure', 'SkinThickness', 'Insulin', 'BMI']"
      ]
     },
     "execution_count": 29,
     "metadata": {},
     "output_type": "execute_result"
    }
   ],
   "source": [
    "ms_col"
   ]
  },
  {
   "cell_type": "code",
   "execution_count": 30,
   "id": "93e87299",
   "metadata": {
    "execution": {
     "iopub.execute_input": "2022-03-27T19:03:18.016237Z",
     "iopub.status.busy": "2022-03-27T19:03:18.015416Z",
     "iopub.status.idle": "2022-03-27T19:03:18.026891Z",
     "shell.execute_reply": "2022-03-27T19:03:18.026236Z",
     "shell.execute_reply.started": "2022-03-27T18:57:37.281883Z"
    },
    "papermill": {
     "duration": 0.099627,
     "end_time": "2022-03-27T19:03:18.027049",
     "exception": false,
     "start_time": "2022-03-27T19:03:17.927422",
     "status": "completed"
    },
    "tags": []
   },
   "outputs": [],
   "source": [
    "dfold_miss  = dfold[(dfold['Glucose']==0) | (dfold['BloodPressure']==0) | (dfold['SkinThickness']==0)  | (dfold['Insulin']==0) | (dfold['BMI']==0)]\n",
    "dfold_nmiss = dfold[(dfold['Glucose']!=0) & (dfold['BloodPressure']!=0) & (dfold['SkinThickness']!=0)  & (dfold['Insulin']!=0) & (dfold['BMI']!=0)]\n"
   ]
  },
  {
   "cell_type": "code",
   "execution_count": 31,
   "id": "3b8f30f4",
   "metadata": {
    "execution": {
     "iopub.execute_input": "2022-03-27T19:03:18.196012Z",
     "iopub.status.busy": "2022-03-27T19:03:18.195282Z",
     "iopub.status.idle": "2022-03-27T19:03:18.198142Z",
     "shell.execute_reply": "2022-03-27T19:03:18.198763Z",
     "shell.execute_reply.started": "2022-03-27T18:57:37.299328Z"
    },
    "papermill": {
     "duration": 0.090367,
     "end_time": "2022-03-27T19:03:18.198934",
     "exception": false,
     "start_time": "2022-03-27T19:03:18.108567",
     "status": "completed"
    },
    "tags": []
   },
   "outputs": [
    {
     "name": "stdout",
     "output_type": "stream",
     "text": [
      "376\n",
      "392\n",
      "768\n"
     ]
    }
   ],
   "source": [
    "##let's check if it worked\n",
    "print(dfold_miss.shape[0])\n",
    "print(dfold_nmiss.shape[0])\n",
    "print(dfold.shape[0])"
   ]
  },
  {
   "cell_type": "code",
   "execution_count": 32,
   "id": "c8a94b85",
   "metadata": {
    "execution": {
     "iopub.execute_input": "2022-03-27T19:03:18.369328Z",
     "iopub.status.busy": "2022-03-27T19:03:18.368537Z",
     "iopub.status.idle": "2022-03-27T19:03:18.373018Z",
     "shell.execute_reply": "2022-03-27T19:03:18.373537Z",
     "shell.execute_reply.started": "2022-03-27T18:57:37.313673Z"
    },
    "papermill": {
     "duration": 0.09102,
     "end_time": "2022-03-27T19:03:18.373720",
     "exception": false,
     "start_time": "2022-03-27T19:03:18.282700",
     "status": "completed"
    },
    "tags": []
   },
   "outputs": [],
   "source": [
    "#function to check for missing values\n",
    "def check_missing(df):\n",
    "    print(f\"{'feature name': <15}{'Missing Values':<20}{'% missing values':<10}\")\n",
    "    for i in ms_col:\n",
    "        print(f\"{i: <15}{(df[i]==0).sum():<20}{(((df[i]==0).sum())*100)/df.shape[0]: .2f}\")"
   ]
  },
  {
   "cell_type": "code",
   "execution_count": 33,
   "id": "0aa8d057",
   "metadata": {
    "execution": {
     "iopub.execute_input": "2022-03-27T19:03:18.547378Z",
     "iopub.status.busy": "2022-03-27T19:03:18.546707Z",
     "iopub.status.idle": "2022-03-27T19:03:18.556332Z",
     "shell.execute_reply": "2022-03-27T19:03:18.556937Z",
     "shell.execute_reply.started": "2022-03-27T18:57:37.325850Z"
    },
    "papermill": {
     "duration": 0.099812,
     "end_time": "2022-03-27T19:03:18.557139",
     "exception": false,
     "start_time": "2022-03-27T19:03:18.457327",
     "status": "completed"
    },
    "tags": []
   },
   "outputs": [
    {
     "name": "stdout",
     "output_type": "stream",
     "text": [
      "feature name   Missing Values      % missing values\n",
      "Glucose        0                    0.00\n",
      "BloodPressure  0                    0.00\n",
      "SkinThickness  0                    0.00\n",
      "Insulin        0                    0.00\n",
      "BMI            0                    0.00\n"
     ]
    }
   ],
   "source": [
    "# let's do one more check \n",
    "check_missing(dfold_nmiss)"
   ]
  },
  {
   "cell_type": "code",
   "execution_count": 34,
   "id": "b3577824",
   "metadata": {
    "execution": {
     "iopub.execute_input": "2022-03-27T19:03:18.735922Z",
     "iopub.status.busy": "2022-03-27T19:03:18.735034Z",
     "iopub.status.idle": "2022-03-27T19:03:18.737982Z",
     "shell.execute_reply": "2022-03-27T19:03:18.738515Z",
     "shell.execute_reply.started": "2022-03-27T18:57:37.342375Z"
    },
    "papermill": {
     "duration": 0.097909,
     "end_time": "2022-03-27T19:03:18.738698",
     "exception": false,
     "start_time": "2022-03-27T19:03:18.640789",
     "status": "completed"
    },
    "tags": []
   },
   "outputs": [
    {
     "name": "stdout",
     "output_type": "stream",
     "text": [
      "feature name   Missing Values      % missing values\n",
      "Glucose        5                    1.33\n",
      "BloodPressure  35                   9.31\n",
      "SkinThickness  227                  60.37\n",
      "Insulin        374                  99.47\n",
      "BMI            11                   2.93\n"
     ]
    }
   ],
   "source": [
    "#checking in n missing dataset\n",
    "check_missing(dfold_miss)"
   ]
  },
  {
   "cell_type": "code",
   "execution_count": 35,
   "id": "e5792225",
   "metadata": {
    "execution": {
     "iopub.execute_input": "2022-03-27T19:03:18.911806Z",
     "iopub.status.busy": "2022-03-27T19:03:18.911150Z",
     "iopub.status.idle": "2022-03-27T19:03:18.914302Z",
     "shell.execute_reply": "2022-03-27T19:03:18.914867Z",
     "shell.execute_reply.started": "2022-03-27T18:57:37.359437Z"
    },
    "papermill": {
     "duration": 0.094871,
     "end_time": "2022-03-27T19:03:18.915056",
     "exception": false,
     "start_time": "2022-03-27T19:03:18.820185",
     "status": "completed"
    },
    "tags": []
   },
   "outputs": [],
   "source": [
    "## let's separate the n missing dataset into feature matrix and target variable\n",
    "Xnmiss=dfold_nmiss.drop('Outcome',axis=1)\n",
    "Ynmiss=dfold_nmiss['Outcome']"
   ]
  },
  {
   "cell_type": "code",
   "execution_count": 36,
   "id": "3461eef2",
   "metadata": {
    "execution": {
     "iopub.execute_input": "2022-03-27T19:03:19.105865Z",
     "iopub.status.busy": "2022-03-27T19:03:19.105157Z",
     "iopub.status.idle": "2022-03-27T19:03:19.108008Z",
     "shell.execute_reply": "2022-03-27T19:03:19.108538Z",
     "shell.execute_reply.started": "2022-03-27T18:57:37.373407Z"
    },
    "papermill": {
     "duration": 0.109096,
     "end_time": "2022-03-27T19:03:19.108732",
     "exception": false,
     "start_time": "2022-03-27T19:03:18.999636",
     "status": "completed"
    },
    "tags": []
   },
   "outputs": [
    {
     "data": {
      "text/html": [
       "<div>\n",
       "<style scoped>\n",
       "    .dataframe tbody tr th:only-of-type {\n",
       "        vertical-align: middle;\n",
       "    }\n",
       "\n",
       "    .dataframe tbody tr th {\n",
       "        vertical-align: top;\n",
       "    }\n",
       "\n",
       "    .dataframe thead th {\n",
       "        text-align: right;\n",
       "    }\n",
       "</style>\n",
       "<table border=\"1\" class=\"dataframe\">\n",
       "  <thead>\n",
       "    <tr style=\"text-align: right;\">\n",
       "      <th></th>\n",
       "      <th>Pregnancies</th>\n",
       "      <th>Glucose</th>\n",
       "      <th>BloodPressure</th>\n",
       "      <th>SkinThickness</th>\n",
       "      <th>Insulin</th>\n",
       "      <th>BMI</th>\n",
       "      <th>DiabetesPedigreeFunction</th>\n",
       "      <th>Age</th>\n",
       "    </tr>\n",
       "  </thead>\n",
       "  <tbody>\n",
       "    <tr>\n",
       "      <th>3</th>\n",
       "      <td>1</td>\n",
       "      <td>89</td>\n",
       "      <td>66</td>\n",
       "      <td>23</td>\n",
       "      <td>94</td>\n",
       "      <td>28.1</td>\n",
       "      <td>0.167</td>\n",
       "      <td>21</td>\n",
       "    </tr>\n",
       "    <tr>\n",
       "      <th>4</th>\n",
       "      <td>0</td>\n",
       "      <td>137</td>\n",
       "      <td>40</td>\n",
       "      <td>35</td>\n",
       "      <td>168</td>\n",
       "      <td>43.1</td>\n",
       "      <td>2.288</td>\n",
       "      <td>33</td>\n",
       "    </tr>\n",
       "    <tr>\n",
       "      <th>6</th>\n",
       "      <td>3</td>\n",
       "      <td>78</td>\n",
       "      <td>50</td>\n",
       "      <td>32</td>\n",
       "      <td>88</td>\n",
       "      <td>31.0</td>\n",
       "      <td>0.248</td>\n",
       "      <td>26</td>\n",
       "    </tr>\n",
       "    <tr>\n",
       "      <th>8</th>\n",
       "      <td>2</td>\n",
       "      <td>197</td>\n",
       "      <td>70</td>\n",
       "      <td>45</td>\n",
       "      <td>543</td>\n",
       "      <td>30.5</td>\n",
       "      <td>0.158</td>\n",
       "      <td>53</td>\n",
       "    </tr>\n",
       "    <tr>\n",
       "      <th>13</th>\n",
       "      <td>1</td>\n",
       "      <td>189</td>\n",
       "      <td>60</td>\n",
       "      <td>23</td>\n",
       "      <td>846</td>\n",
       "      <td>30.1</td>\n",
       "      <td>0.398</td>\n",
       "      <td>59</td>\n",
       "    </tr>\n",
       "    <tr>\n",
       "      <th>...</th>\n",
       "      <td>...</td>\n",
       "      <td>...</td>\n",
       "      <td>...</td>\n",
       "      <td>...</td>\n",
       "      <td>...</td>\n",
       "      <td>...</td>\n",
       "      <td>...</td>\n",
       "      <td>...</td>\n",
       "    </tr>\n",
       "    <tr>\n",
       "      <th>753</th>\n",
       "      <td>0</td>\n",
       "      <td>181</td>\n",
       "      <td>88</td>\n",
       "      <td>44</td>\n",
       "      <td>510</td>\n",
       "      <td>43.3</td>\n",
       "      <td>0.222</td>\n",
       "      <td>26</td>\n",
       "    </tr>\n",
       "    <tr>\n",
       "      <th>755</th>\n",
       "      <td>1</td>\n",
       "      <td>128</td>\n",
       "      <td>88</td>\n",
       "      <td>39</td>\n",
       "      <td>110</td>\n",
       "      <td>36.5</td>\n",
       "      <td>1.057</td>\n",
       "      <td>37</td>\n",
       "    </tr>\n",
       "    <tr>\n",
       "      <th>760</th>\n",
       "      <td>2</td>\n",
       "      <td>88</td>\n",
       "      <td>58</td>\n",
       "      <td>26</td>\n",
       "      <td>16</td>\n",
       "      <td>28.4</td>\n",
       "      <td>0.766</td>\n",
       "      <td>22</td>\n",
       "    </tr>\n",
       "    <tr>\n",
       "      <th>763</th>\n",
       "      <td>10</td>\n",
       "      <td>101</td>\n",
       "      <td>76</td>\n",
       "      <td>48</td>\n",
       "      <td>180</td>\n",
       "      <td>32.9</td>\n",
       "      <td>0.171</td>\n",
       "      <td>63</td>\n",
       "    </tr>\n",
       "    <tr>\n",
       "      <th>765</th>\n",
       "      <td>5</td>\n",
       "      <td>121</td>\n",
       "      <td>72</td>\n",
       "      <td>23</td>\n",
       "      <td>112</td>\n",
       "      <td>26.2</td>\n",
       "      <td>0.245</td>\n",
       "      <td>30</td>\n",
       "    </tr>\n",
       "  </tbody>\n",
       "</table>\n",
       "<p>392 rows × 8 columns</p>\n",
       "</div>"
      ],
      "text/plain": [
       "     Pregnancies  Glucose  BloodPressure  SkinThickness  Insulin   BMI  \\\n",
       "3              1       89             66             23       94  28.1   \n",
       "4              0      137             40             35      168  43.1   \n",
       "6              3       78             50             32       88  31.0   \n",
       "8              2      197             70             45      543  30.5   \n",
       "13             1      189             60             23      846  30.1   \n",
       "..           ...      ...            ...            ...      ...   ...   \n",
       "753            0      181             88             44      510  43.3   \n",
       "755            1      128             88             39      110  36.5   \n",
       "760            2       88             58             26       16  28.4   \n",
       "763           10      101             76             48      180  32.9   \n",
       "765            5      121             72             23      112  26.2   \n",
       "\n",
       "     DiabetesPedigreeFunction  Age  \n",
       "3                       0.167   21  \n",
       "4                       2.288   33  \n",
       "6                       0.248   26  \n",
       "8                       0.158   53  \n",
       "13                      0.398   59  \n",
       "..                        ...  ...  \n",
       "753                     0.222   26  \n",
       "755                     1.057   37  \n",
       "760                     0.766   22  \n",
       "763                     0.171   63  \n",
       "765                     0.245   30  \n",
       "\n",
       "[392 rows x 8 columns]"
      ]
     },
     "execution_count": 36,
     "metadata": {},
     "output_type": "execute_result"
    }
   ],
   "source": [
    "Xnmiss"
   ]
  },
  {
   "cell_type": "code",
   "execution_count": 37,
   "id": "2b5b28cc",
   "metadata": {
    "execution": {
     "iopub.execute_input": "2022-03-27T19:03:19.282088Z",
     "iopub.status.busy": "2022-03-27T19:03:19.281389Z",
     "iopub.status.idle": "2022-03-27T19:03:19.288344Z",
     "shell.execute_reply": "2022-03-27T19:03:19.288824Z",
     "shell.execute_reply.started": "2022-03-27T18:57:37.399033Z"
    },
    "papermill": {
     "duration": 0.095017,
     "end_time": "2022-03-27T19:03:19.289004",
     "exception": false,
     "start_time": "2022-03-27T19:03:19.193987",
     "status": "completed"
    },
    "tags": []
   },
   "outputs": [
    {
     "data": {
      "text/plain": [
       "3      0\n",
       "4      1\n",
       "6      1\n",
       "8      1\n",
       "13     1\n",
       "      ..\n",
       "753    1\n",
       "755    1\n",
       "760    0\n",
       "763    0\n",
       "765    0\n",
       "Name: Outcome, Length: 392, dtype: int64"
      ]
     },
     "execution_count": 37,
     "metadata": {},
     "output_type": "execute_result"
    }
   ],
   "source": [
    "Ynmiss"
   ]
  },
  {
   "cell_type": "code",
   "execution_count": 38,
   "id": "cafbafee",
   "metadata": {
    "execution": {
     "iopub.execute_input": "2022-03-27T19:03:19.463019Z",
     "iopub.status.busy": "2022-03-27T19:03:19.462395Z",
     "iopub.status.idle": "2022-03-27T19:03:19.468893Z",
     "shell.execute_reply": "2022-03-27T19:03:19.469443Z",
     "shell.execute_reply.started": "2022-03-27T18:57:37.415928Z"
    },
    "papermill": {
     "duration": 0.093005,
     "end_time": "2022-03-27T19:03:19.469636",
     "exception": false,
     "start_time": "2022-03-27T19:03:19.376631",
     "status": "completed"
    },
    "tags": []
   },
   "outputs": [],
   "source": [
    "## lets do a train_test_split for the non missing dataset\n",
    "\n",
    "X_train_nmiss,X_test_nmiss,Y_train_nmiss,Y_test_nmiss =  train_test_split(Xnmiss,Ynmiss,test_size=0.20, random_state=7,stratify=Ynmiss)\n"
   ]
  },
  {
   "cell_type": "code",
   "execution_count": 39,
   "id": "e68cff05",
   "metadata": {
    "execution": {
     "iopub.execute_input": "2022-03-27T19:03:19.643848Z",
     "iopub.status.busy": "2022-03-27T19:03:19.643116Z",
     "iopub.status.idle": "2022-03-27T19:03:19.658598Z",
     "shell.execute_reply": "2022-03-27T19:03:19.659203Z",
     "shell.execute_reply.started": "2022-03-27T18:57:37.428277Z"
    },
    "papermill": {
     "duration": 0.105296,
     "end_time": "2022-03-27T19:03:19.659377",
     "exception": false,
     "start_time": "2022-03-27T19:03:19.554081",
     "status": "completed"
    },
    "tags": []
   },
   "outputs": [
    {
     "data": {
      "text/html": [
       "<div>\n",
       "<style scoped>\n",
       "    .dataframe tbody tr th:only-of-type {\n",
       "        vertical-align: middle;\n",
       "    }\n",
       "\n",
       "    .dataframe tbody tr th {\n",
       "        vertical-align: top;\n",
       "    }\n",
       "\n",
       "    .dataframe thead th {\n",
       "        text-align: right;\n",
       "    }\n",
       "</style>\n",
       "<table border=\"1\" class=\"dataframe\">\n",
       "  <thead>\n",
       "    <tr style=\"text-align: right;\">\n",
       "      <th></th>\n",
       "      <th>Pregnancies</th>\n",
       "      <th>Glucose</th>\n",
       "      <th>BloodPressure</th>\n",
       "      <th>SkinThickness</th>\n",
       "      <th>Insulin</th>\n",
       "      <th>BMI</th>\n",
       "      <th>DiabetesPedigreeFunction</th>\n",
       "      <th>Age</th>\n",
       "    </tr>\n",
       "  </thead>\n",
       "  <tbody>\n",
       "    <tr>\n",
       "      <th>288</th>\n",
       "      <td>4</td>\n",
       "      <td>96</td>\n",
       "      <td>56</td>\n",
       "      <td>17</td>\n",
       "      <td>49</td>\n",
       "      <td>20.8</td>\n",
       "      <td>0.340</td>\n",
       "      <td>26</td>\n",
       "    </tr>\n",
       "    <tr>\n",
       "      <th>594</th>\n",
       "      <td>6</td>\n",
       "      <td>123</td>\n",
       "      <td>72</td>\n",
       "      <td>45</td>\n",
       "      <td>230</td>\n",
       "      <td>33.6</td>\n",
       "      <td>0.733</td>\n",
       "      <td>34</td>\n",
       "    </tr>\n",
       "    <tr>\n",
       "      <th>50</th>\n",
       "      <td>1</td>\n",
       "      <td>103</td>\n",
       "      <td>80</td>\n",
       "      <td>11</td>\n",
       "      <td>82</td>\n",
       "      <td>19.4</td>\n",
       "      <td>0.491</td>\n",
       "      <td>22</td>\n",
       "    </tr>\n",
       "    <tr>\n",
       "      <th>497</th>\n",
       "      <td>2</td>\n",
       "      <td>81</td>\n",
       "      <td>72</td>\n",
       "      <td>15</td>\n",
       "      <td>76</td>\n",
       "      <td>30.1</td>\n",
       "      <td>0.547</td>\n",
       "      <td>25</td>\n",
       "    </tr>\n",
       "    <tr>\n",
       "      <th>305</th>\n",
       "      <td>2</td>\n",
       "      <td>120</td>\n",
       "      <td>76</td>\n",
       "      <td>37</td>\n",
       "      <td>105</td>\n",
       "      <td>39.7</td>\n",
       "      <td>0.215</td>\n",
       "      <td>29</td>\n",
       "    </tr>\n",
       "    <tr>\n",
       "      <th>...</th>\n",
       "      <td>...</td>\n",
       "      <td>...</td>\n",
       "      <td>...</td>\n",
       "      <td>...</td>\n",
       "      <td>...</td>\n",
       "      <td>...</td>\n",
       "      <td>...</td>\n",
       "      <td>...</td>\n",
       "    </tr>\n",
       "    <tr>\n",
       "      <th>71</th>\n",
       "      <td>5</td>\n",
       "      <td>139</td>\n",
       "      <td>64</td>\n",
       "      <td>35</td>\n",
       "      <td>140</td>\n",
       "      <td>28.6</td>\n",
       "      <td>0.411</td>\n",
       "      <td>26</td>\n",
       "    </tr>\n",
       "    <tr>\n",
       "      <th>98</th>\n",
       "      <td>6</td>\n",
       "      <td>93</td>\n",
       "      <td>50</td>\n",
       "      <td>30</td>\n",
       "      <td>64</td>\n",
       "      <td>28.7</td>\n",
       "      <td>0.356</td>\n",
       "      <td>23</td>\n",
       "    </tr>\n",
       "    <tr>\n",
       "      <th>223</th>\n",
       "      <td>7</td>\n",
       "      <td>142</td>\n",
       "      <td>60</td>\n",
       "      <td>33</td>\n",
       "      <td>190</td>\n",
       "      <td>28.8</td>\n",
       "      <td>0.687</td>\n",
       "      <td>61</td>\n",
       "    </tr>\n",
       "    <tr>\n",
       "      <th>726</th>\n",
       "      <td>1</td>\n",
       "      <td>116</td>\n",
       "      <td>78</td>\n",
       "      <td>29</td>\n",
       "      <td>180</td>\n",
       "      <td>36.1</td>\n",
       "      <td>0.496</td>\n",
       "      <td>25</td>\n",
       "    </tr>\n",
       "    <tr>\n",
       "      <th>498</th>\n",
       "      <td>7</td>\n",
       "      <td>195</td>\n",
       "      <td>70</td>\n",
       "      <td>33</td>\n",
       "      <td>145</td>\n",
       "      <td>25.1</td>\n",
       "      <td>0.163</td>\n",
       "      <td>55</td>\n",
       "    </tr>\n",
       "  </tbody>\n",
       "</table>\n",
       "<p>313 rows × 8 columns</p>\n",
       "</div>"
      ],
      "text/plain": [
       "     Pregnancies  Glucose  BloodPressure  SkinThickness  Insulin   BMI  \\\n",
       "288            4       96             56             17       49  20.8   \n",
       "594            6      123             72             45      230  33.6   \n",
       "50             1      103             80             11       82  19.4   \n",
       "497            2       81             72             15       76  30.1   \n",
       "305            2      120             76             37      105  39.7   \n",
       "..           ...      ...            ...            ...      ...   ...   \n",
       "71             5      139             64             35      140  28.6   \n",
       "98             6       93             50             30       64  28.7   \n",
       "223            7      142             60             33      190  28.8   \n",
       "726            1      116             78             29      180  36.1   \n",
       "498            7      195             70             33      145  25.1   \n",
       "\n",
       "     DiabetesPedigreeFunction  Age  \n",
       "288                     0.340   26  \n",
       "594                     0.733   34  \n",
       "50                      0.491   22  \n",
       "497                     0.547   25  \n",
       "305                     0.215   29  \n",
       "..                        ...  ...  \n",
       "71                      0.411   26  \n",
       "98                      0.356   23  \n",
       "223                     0.687   61  \n",
       "726                     0.496   25  \n",
       "498                     0.163   55  \n",
       "\n",
       "[313 rows x 8 columns]"
      ]
     },
     "execution_count": 39,
     "metadata": {},
     "output_type": "execute_result"
    }
   ],
   "source": [
    "X_train_nmiss"
   ]
  },
  {
   "cell_type": "code",
   "execution_count": 40,
   "id": "c1387c62",
   "metadata": {
    "execution": {
     "iopub.execute_input": "2022-03-27T19:03:19.835389Z",
     "iopub.status.busy": "2022-03-27T19:03:19.834722Z",
     "iopub.status.idle": "2022-03-27T19:03:19.840462Z",
     "shell.execute_reply": "2022-03-27T19:03:19.840974Z",
     "shell.execute_reply.started": "2022-03-27T18:57:37.458105Z"
    },
    "papermill": {
     "duration": 0.096449,
     "end_time": "2022-03-27T19:03:19.841176",
     "exception": false,
     "start_time": "2022-03-27T19:03:19.744727",
     "status": "completed"
    },
    "tags": []
   },
   "outputs": [],
   "source": [
    "## lets merge the X_train_nmiss and Y_train_nmiss\n",
    "df_train_nmiss = pd.concat([X_train_nmiss,Y_train_nmiss], axis=1)"
   ]
  },
  {
   "cell_type": "code",
   "execution_count": 41,
   "id": "80f591a4",
   "metadata": {
    "execution": {
     "iopub.execute_input": "2022-03-27T19:03:20.023980Z",
     "iopub.status.busy": "2022-03-27T19:03:20.023270Z",
     "iopub.status.idle": "2022-03-27T19:03:20.027722Z",
     "shell.execute_reply": "2022-03-27T19:03:20.027119Z",
     "shell.execute_reply.started": "2022-03-27T18:57:37.469608Z"
    },
    "papermill": {
     "duration": 0.101053,
     "end_time": "2022-03-27T19:03:20.027875",
     "exception": false,
     "start_time": "2022-03-27T19:03:19.926822",
     "status": "completed"
    },
    "tags": []
   },
   "outputs": [
    {
     "data": {
      "text/plain": [
       "(313, 9)"
      ]
     },
     "execution_count": 41,
     "metadata": {},
     "output_type": "execute_result"
    }
   ],
   "source": [
    "df_train_nmiss.shape"
   ]
  },
  {
   "cell_type": "code",
   "execution_count": 42,
   "id": "7d22d098",
   "metadata": {
    "execution": {
     "iopub.execute_input": "2022-03-27T19:03:20.203246Z",
     "iopub.status.busy": "2022-03-27T19:03:20.200015Z",
     "iopub.status.idle": "2022-03-27T19:03:20.221300Z",
     "shell.execute_reply": "2022-03-27T19:03:20.220458Z",
     "shell.execute_reply.started": "2022-03-27T18:57:37.485450Z"
    },
    "papermill": {
     "duration": 0.109781,
     "end_time": "2022-03-27T19:03:20.221455",
     "exception": false,
     "start_time": "2022-03-27T19:03:20.111674",
     "status": "completed"
    },
    "tags": []
   },
   "outputs": [
    {
     "data": {
      "text/html": [
       "<div>\n",
       "<style scoped>\n",
       "    .dataframe tbody tr th:only-of-type {\n",
       "        vertical-align: middle;\n",
       "    }\n",
       "\n",
       "    .dataframe tbody tr th {\n",
       "        vertical-align: top;\n",
       "    }\n",
       "\n",
       "    .dataframe thead th {\n",
       "        text-align: right;\n",
       "    }\n",
       "</style>\n",
       "<table border=\"1\" class=\"dataframe\">\n",
       "  <thead>\n",
       "    <tr style=\"text-align: right;\">\n",
       "      <th></th>\n",
       "      <th>Pregnancies</th>\n",
       "      <th>Glucose</th>\n",
       "      <th>BloodPressure</th>\n",
       "      <th>SkinThickness</th>\n",
       "      <th>Insulin</th>\n",
       "      <th>BMI</th>\n",
       "      <th>DiabetesPedigreeFunction</th>\n",
       "      <th>Age</th>\n",
       "      <th>Outcome</th>\n",
       "    </tr>\n",
       "  </thead>\n",
       "  <tbody>\n",
       "    <tr>\n",
       "      <th>3</th>\n",
       "      <td>1</td>\n",
       "      <td>89</td>\n",
       "      <td>66</td>\n",
       "      <td>23</td>\n",
       "      <td>94</td>\n",
       "      <td>28.1</td>\n",
       "      <td>0.167</td>\n",
       "      <td>21</td>\n",
       "      <td>0</td>\n",
       "    </tr>\n",
       "    <tr>\n",
       "      <th>4</th>\n",
       "      <td>0</td>\n",
       "      <td>137</td>\n",
       "      <td>40</td>\n",
       "      <td>35</td>\n",
       "      <td>168</td>\n",
       "      <td>43.1</td>\n",
       "      <td>2.288</td>\n",
       "      <td>33</td>\n",
       "      <td>1</td>\n",
       "    </tr>\n",
       "    <tr>\n",
       "      <th>6</th>\n",
       "      <td>3</td>\n",
       "      <td>78</td>\n",
       "      <td>50</td>\n",
       "      <td>32</td>\n",
       "      <td>88</td>\n",
       "      <td>31.0</td>\n",
       "      <td>0.248</td>\n",
       "      <td>26</td>\n",
       "      <td>1</td>\n",
       "    </tr>\n",
       "    <tr>\n",
       "      <th>8</th>\n",
       "      <td>2</td>\n",
       "      <td>197</td>\n",
       "      <td>70</td>\n",
       "      <td>45</td>\n",
       "      <td>543</td>\n",
       "      <td>30.5</td>\n",
       "      <td>0.158</td>\n",
       "      <td>53</td>\n",
       "      <td>1</td>\n",
       "    </tr>\n",
       "    <tr>\n",
       "      <th>13</th>\n",
       "      <td>1</td>\n",
       "      <td>189</td>\n",
       "      <td>60</td>\n",
       "      <td>23</td>\n",
       "      <td>846</td>\n",
       "      <td>30.1</td>\n",
       "      <td>0.398</td>\n",
       "      <td>59</td>\n",
       "      <td>1</td>\n",
       "    </tr>\n",
       "    <tr>\n",
       "      <th>...</th>\n",
       "      <td>...</td>\n",
       "      <td>...</td>\n",
       "      <td>...</td>\n",
       "      <td>...</td>\n",
       "      <td>...</td>\n",
       "      <td>...</td>\n",
       "      <td>...</td>\n",
       "      <td>...</td>\n",
       "      <td>...</td>\n",
       "    </tr>\n",
       "    <tr>\n",
       "      <th>753</th>\n",
       "      <td>0</td>\n",
       "      <td>181</td>\n",
       "      <td>88</td>\n",
       "      <td>44</td>\n",
       "      <td>510</td>\n",
       "      <td>43.3</td>\n",
       "      <td>0.222</td>\n",
       "      <td>26</td>\n",
       "      <td>1</td>\n",
       "    </tr>\n",
       "    <tr>\n",
       "      <th>755</th>\n",
       "      <td>1</td>\n",
       "      <td>128</td>\n",
       "      <td>88</td>\n",
       "      <td>39</td>\n",
       "      <td>110</td>\n",
       "      <td>36.5</td>\n",
       "      <td>1.057</td>\n",
       "      <td>37</td>\n",
       "      <td>1</td>\n",
       "    </tr>\n",
       "    <tr>\n",
       "      <th>760</th>\n",
       "      <td>2</td>\n",
       "      <td>88</td>\n",
       "      <td>58</td>\n",
       "      <td>26</td>\n",
       "      <td>16</td>\n",
       "      <td>28.4</td>\n",
       "      <td>0.766</td>\n",
       "      <td>22</td>\n",
       "      <td>0</td>\n",
       "    </tr>\n",
       "    <tr>\n",
       "      <th>763</th>\n",
       "      <td>10</td>\n",
       "      <td>101</td>\n",
       "      <td>76</td>\n",
       "      <td>48</td>\n",
       "      <td>180</td>\n",
       "      <td>32.9</td>\n",
       "      <td>0.171</td>\n",
       "      <td>63</td>\n",
       "      <td>0</td>\n",
       "    </tr>\n",
       "    <tr>\n",
       "      <th>765</th>\n",
       "      <td>5</td>\n",
       "      <td>121</td>\n",
       "      <td>72</td>\n",
       "      <td>23</td>\n",
       "      <td>112</td>\n",
       "      <td>26.2</td>\n",
       "      <td>0.245</td>\n",
       "      <td>30</td>\n",
       "      <td>0</td>\n",
       "    </tr>\n",
       "  </tbody>\n",
       "</table>\n",
       "<p>392 rows × 9 columns</p>\n",
       "</div>"
      ],
      "text/plain": [
       "     Pregnancies  Glucose  BloodPressure  SkinThickness  Insulin   BMI  \\\n",
       "3              1       89             66             23       94  28.1   \n",
       "4              0      137             40             35      168  43.1   \n",
       "6              3       78             50             32       88  31.0   \n",
       "8              2      197             70             45      543  30.5   \n",
       "13             1      189             60             23      846  30.1   \n",
       "..           ...      ...            ...            ...      ...   ...   \n",
       "753            0      181             88             44      510  43.3   \n",
       "755            1      128             88             39      110  36.5   \n",
       "760            2       88             58             26       16  28.4   \n",
       "763           10      101             76             48      180  32.9   \n",
       "765            5      121             72             23      112  26.2   \n",
       "\n",
       "     DiabetesPedigreeFunction  Age  Outcome  \n",
       "3                       0.167   21        0  \n",
       "4                       2.288   33        1  \n",
       "6                       0.248   26        1  \n",
       "8                       0.158   53        1  \n",
       "13                      0.398   59        1  \n",
       "..                        ...  ...      ...  \n",
       "753                     0.222   26        1  \n",
       "755                     1.057   37        1  \n",
       "760                     0.766   22        0  \n",
       "763                     0.171   63        0  \n",
       "765                     0.245   30        0  \n",
       "\n",
       "[392 rows x 9 columns]"
      ]
     },
     "execution_count": 42,
     "metadata": {},
     "output_type": "execute_result"
    }
   ],
   "source": [
    "dfold_nmiss"
   ]
  },
  {
   "cell_type": "code",
   "execution_count": 43,
   "id": "7abb561b",
   "metadata": {
    "execution": {
     "iopub.execute_input": "2022-03-27T19:03:20.417357Z",
     "iopub.status.busy": "2022-03-27T19:03:20.416288Z",
     "iopub.status.idle": "2022-03-27T19:03:20.432897Z",
     "shell.execute_reply": "2022-03-27T19:03:20.433928Z",
     "shell.execute_reply.started": "2022-03-27T18:57:37.507714Z"
    },
    "papermill": {
     "duration": 0.12637,
     "end_time": "2022-03-27T19:03:20.434205",
     "exception": false,
     "start_time": "2022-03-27T19:03:20.307835",
     "status": "completed"
    },
    "tags": []
   },
   "outputs": [
    {
     "data": {
      "text/html": [
       "<div>\n",
       "<style scoped>\n",
       "    .dataframe tbody tr th:only-of-type {\n",
       "        vertical-align: middle;\n",
       "    }\n",
       "\n",
       "    .dataframe tbody tr th {\n",
       "        vertical-align: top;\n",
       "    }\n",
       "\n",
       "    .dataframe thead th {\n",
       "        text-align: right;\n",
       "    }\n",
       "</style>\n",
       "<table border=\"1\" class=\"dataframe\">\n",
       "  <thead>\n",
       "    <tr style=\"text-align: right;\">\n",
       "      <th></th>\n",
       "      <th>Pregnancies</th>\n",
       "      <th>Glucose</th>\n",
       "      <th>BloodPressure</th>\n",
       "      <th>SkinThickness</th>\n",
       "      <th>Insulin</th>\n",
       "      <th>BMI</th>\n",
       "      <th>DiabetesPedigreeFunction</th>\n",
       "      <th>Age</th>\n",
       "      <th>Outcome</th>\n",
       "    </tr>\n",
       "  </thead>\n",
       "  <tbody>\n",
       "    <tr>\n",
       "      <th>288</th>\n",
       "      <td>4</td>\n",
       "      <td>96</td>\n",
       "      <td>56</td>\n",
       "      <td>17</td>\n",
       "      <td>49</td>\n",
       "      <td>20.8</td>\n",
       "      <td>0.340</td>\n",
       "      <td>26</td>\n",
       "      <td>0</td>\n",
       "    </tr>\n",
       "    <tr>\n",
       "      <th>594</th>\n",
       "      <td>6</td>\n",
       "      <td>123</td>\n",
       "      <td>72</td>\n",
       "      <td>45</td>\n",
       "      <td>230</td>\n",
       "      <td>33.6</td>\n",
       "      <td>0.733</td>\n",
       "      <td>34</td>\n",
       "      <td>0</td>\n",
       "    </tr>\n",
       "    <tr>\n",
       "      <th>50</th>\n",
       "      <td>1</td>\n",
       "      <td>103</td>\n",
       "      <td>80</td>\n",
       "      <td>11</td>\n",
       "      <td>82</td>\n",
       "      <td>19.4</td>\n",
       "      <td>0.491</td>\n",
       "      <td>22</td>\n",
       "      <td>0</td>\n",
       "    </tr>\n",
       "    <tr>\n",
       "      <th>497</th>\n",
       "      <td>2</td>\n",
       "      <td>81</td>\n",
       "      <td>72</td>\n",
       "      <td>15</td>\n",
       "      <td>76</td>\n",
       "      <td>30.1</td>\n",
       "      <td>0.547</td>\n",
       "      <td>25</td>\n",
       "      <td>0</td>\n",
       "    </tr>\n",
       "    <tr>\n",
       "      <th>305</th>\n",
       "      <td>2</td>\n",
       "      <td>120</td>\n",
       "      <td>76</td>\n",
       "      <td>37</td>\n",
       "      <td>105</td>\n",
       "      <td>39.7</td>\n",
       "      <td>0.215</td>\n",
       "      <td>29</td>\n",
       "      <td>0</td>\n",
       "    </tr>\n",
       "    <tr>\n",
       "      <th>...</th>\n",
       "      <td>...</td>\n",
       "      <td>...</td>\n",
       "      <td>...</td>\n",
       "      <td>...</td>\n",
       "      <td>...</td>\n",
       "      <td>...</td>\n",
       "      <td>...</td>\n",
       "      <td>...</td>\n",
       "      <td>...</td>\n",
       "    </tr>\n",
       "    <tr>\n",
       "      <th>71</th>\n",
       "      <td>5</td>\n",
       "      <td>139</td>\n",
       "      <td>64</td>\n",
       "      <td>35</td>\n",
       "      <td>140</td>\n",
       "      <td>28.6</td>\n",
       "      <td>0.411</td>\n",
       "      <td>26</td>\n",
       "      <td>0</td>\n",
       "    </tr>\n",
       "    <tr>\n",
       "      <th>98</th>\n",
       "      <td>6</td>\n",
       "      <td>93</td>\n",
       "      <td>50</td>\n",
       "      <td>30</td>\n",
       "      <td>64</td>\n",
       "      <td>28.7</td>\n",
       "      <td>0.356</td>\n",
       "      <td>23</td>\n",
       "      <td>0</td>\n",
       "    </tr>\n",
       "    <tr>\n",
       "      <th>223</th>\n",
       "      <td>7</td>\n",
       "      <td>142</td>\n",
       "      <td>60</td>\n",
       "      <td>33</td>\n",
       "      <td>190</td>\n",
       "      <td>28.8</td>\n",
       "      <td>0.687</td>\n",
       "      <td>61</td>\n",
       "      <td>0</td>\n",
       "    </tr>\n",
       "    <tr>\n",
       "      <th>726</th>\n",
       "      <td>1</td>\n",
       "      <td>116</td>\n",
       "      <td>78</td>\n",
       "      <td>29</td>\n",
       "      <td>180</td>\n",
       "      <td>36.1</td>\n",
       "      <td>0.496</td>\n",
       "      <td>25</td>\n",
       "      <td>0</td>\n",
       "    </tr>\n",
       "    <tr>\n",
       "      <th>498</th>\n",
       "      <td>7</td>\n",
       "      <td>195</td>\n",
       "      <td>70</td>\n",
       "      <td>33</td>\n",
       "      <td>145</td>\n",
       "      <td>25.1</td>\n",
       "      <td>0.163</td>\n",
       "      <td>55</td>\n",
       "      <td>1</td>\n",
       "    </tr>\n",
       "  </tbody>\n",
       "</table>\n",
       "<p>313 rows × 9 columns</p>\n",
       "</div>"
      ],
      "text/plain": [
       "     Pregnancies  Glucose  BloodPressure  SkinThickness  Insulin   BMI  \\\n",
       "288            4       96             56             17       49  20.8   \n",
       "594            6      123             72             45      230  33.6   \n",
       "50             1      103             80             11       82  19.4   \n",
       "497            2       81             72             15       76  30.1   \n",
       "305            2      120             76             37      105  39.7   \n",
       "..           ...      ...            ...            ...      ...   ...   \n",
       "71             5      139             64             35      140  28.6   \n",
       "98             6       93             50             30       64  28.7   \n",
       "223            7      142             60             33      190  28.8   \n",
       "726            1      116             78             29      180  36.1   \n",
       "498            7      195             70             33      145  25.1   \n",
       "\n",
       "     DiabetesPedigreeFunction  Age  Outcome  \n",
       "288                     0.340   26        0  \n",
       "594                     0.733   34        0  \n",
       "50                      0.491   22        0  \n",
       "497                     0.547   25        0  \n",
       "305                     0.215   29        0  \n",
       "..                        ...  ...      ...  \n",
       "71                      0.411   26        0  \n",
       "98                      0.356   23        0  \n",
       "223                     0.687   61        0  \n",
       "726                     0.496   25        0  \n",
       "498                     0.163   55        1  \n",
       "\n",
       "[313 rows x 9 columns]"
      ]
     },
     "execution_count": 43,
     "metadata": {},
     "output_type": "execute_result"
    }
   ],
   "source": [
    "df_train_nmiss"
   ]
  },
  {
   "cell_type": "code",
   "execution_count": 44,
   "id": "55a893a8",
   "metadata": {
    "execution": {
     "iopub.execute_input": "2022-03-27T19:03:20.632977Z",
     "iopub.status.busy": "2022-03-27T19:03:20.631405Z",
     "iopub.status.idle": "2022-03-27T19:03:20.635062Z",
     "shell.execute_reply": "2022-03-27T19:03:20.635754Z",
     "shell.execute_reply.started": "2022-03-27T18:57:37.527418Z"
    },
    "papermill": {
     "duration": 0.098231,
     "end_time": "2022-03-27T19:03:20.635937",
     "exception": false,
     "start_time": "2022-03-27T19:03:20.537706",
     "status": "completed"
    },
    "tags": []
   },
   "outputs": [],
   "source": [
    "## lets concat the missing and n miss train dataframe\n",
    "df_train_all = pd.concat([df_train_nmiss,dfold_miss], axis=0,ignore_index=False)"
   ]
  },
  {
   "cell_type": "code",
   "execution_count": 45,
   "id": "a2432c89",
   "metadata": {
    "execution": {
     "iopub.execute_input": "2022-03-27T19:03:20.817338Z",
     "iopub.status.busy": "2022-03-27T19:03:20.816663Z",
     "iopub.status.idle": "2022-03-27T19:03:20.832750Z",
     "shell.execute_reply": "2022-03-27T19:03:20.833324Z",
     "shell.execute_reply.started": "2022-03-27T18:57:37.535390Z"
    },
    "papermill": {
     "duration": 0.109692,
     "end_time": "2022-03-27T19:03:20.833499",
     "exception": false,
     "start_time": "2022-03-27T19:03:20.723807",
     "status": "completed"
    },
    "tags": []
   },
   "outputs": [
    {
     "data": {
      "text/html": [
       "<div>\n",
       "<style scoped>\n",
       "    .dataframe tbody tr th:only-of-type {\n",
       "        vertical-align: middle;\n",
       "    }\n",
       "\n",
       "    .dataframe tbody tr th {\n",
       "        vertical-align: top;\n",
       "    }\n",
       "\n",
       "    .dataframe thead th {\n",
       "        text-align: right;\n",
       "    }\n",
       "</style>\n",
       "<table border=\"1\" class=\"dataframe\">\n",
       "  <thead>\n",
       "    <tr style=\"text-align: right;\">\n",
       "      <th></th>\n",
       "      <th>Pregnancies</th>\n",
       "      <th>Glucose</th>\n",
       "      <th>BloodPressure</th>\n",
       "      <th>SkinThickness</th>\n",
       "      <th>Insulin</th>\n",
       "      <th>BMI</th>\n",
       "      <th>DiabetesPedigreeFunction</th>\n",
       "      <th>Age</th>\n",
       "      <th>Outcome</th>\n",
       "    </tr>\n",
       "  </thead>\n",
       "  <tbody>\n",
       "    <tr>\n",
       "      <th>288</th>\n",
       "      <td>4</td>\n",
       "      <td>96</td>\n",
       "      <td>56</td>\n",
       "      <td>17</td>\n",
       "      <td>49</td>\n",
       "      <td>20.8</td>\n",
       "      <td>0.340</td>\n",
       "      <td>26</td>\n",
       "      <td>0</td>\n",
       "    </tr>\n",
       "    <tr>\n",
       "      <th>594</th>\n",
       "      <td>6</td>\n",
       "      <td>123</td>\n",
       "      <td>72</td>\n",
       "      <td>45</td>\n",
       "      <td>230</td>\n",
       "      <td>33.6</td>\n",
       "      <td>0.733</td>\n",
       "      <td>34</td>\n",
       "      <td>0</td>\n",
       "    </tr>\n",
       "    <tr>\n",
       "      <th>50</th>\n",
       "      <td>1</td>\n",
       "      <td>103</td>\n",
       "      <td>80</td>\n",
       "      <td>11</td>\n",
       "      <td>82</td>\n",
       "      <td>19.4</td>\n",
       "      <td>0.491</td>\n",
       "      <td>22</td>\n",
       "      <td>0</td>\n",
       "    </tr>\n",
       "    <tr>\n",
       "      <th>497</th>\n",
       "      <td>2</td>\n",
       "      <td>81</td>\n",
       "      <td>72</td>\n",
       "      <td>15</td>\n",
       "      <td>76</td>\n",
       "      <td>30.1</td>\n",
       "      <td>0.547</td>\n",
       "      <td>25</td>\n",
       "      <td>0</td>\n",
       "    </tr>\n",
       "    <tr>\n",
       "      <th>305</th>\n",
       "      <td>2</td>\n",
       "      <td>120</td>\n",
       "      <td>76</td>\n",
       "      <td>37</td>\n",
       "      <td>105</td>\n",
       "      <td>39.7</td>\n",
       "      <td>0.215</td>\n",
       "      <td>29</td>\n",
       "      <td>0</td>\n",
       "    </tr>\n",
       "    <tr>\n",
       "      <th>...</th>\n",
       "      <td>...</td>\n",
       "      <td>...</td>\n",
       "      <td>...</td>\n",
       "      <td>...</td>\n",
       "      <td>...</td>\n",
       "      <td>...</td>\n",
       "      <td>...</td>\n",
       "      <td>...</td>\n",
       "      <td>...</td>\n",
       "    </tr>\n",
       "    <tr>\n",
       "      <th>761</th>\n",
       "      <td>9</td>\n",
       "      <td>170</td>\n",
       "      <td>74</td>\n",
       "      <td>31</td>\n",
       "      <td>0</td>\n",
       "      <td>44.0</td>\n",
       "      <td>0.403</td>\n",
       "      <td>43</td>\n",
       "      <td>1</td>\n",
       "    </tr>\n",
       "    <tr>\n",
       "      <th>762</th>\n",
       "      <td>9</td>\n",
       "      <td>89</td>\n",
       "      <td>62</td>\n",
       "      <td>0</td>\n",
       "      <td>0</td>\n",
       "      <td>22.5</td>\n",
       "      <td>0.142</td>\n",
       "      <td>33</td>\n",
       "      <td>0</td>\n",
       "    </tr>\n",
       "    <tr>\n",
       "      <th>764</th>\n",
       "      <td>2</td>\n",
       "      <td>122</td>\n",
       "      <td>70</td>\n",
       "      <td>27</td>\n",
       "      <td>0</td>\n",
       "      <td>36.8</td>\n",
       "      <td>0.340</td>\n",
       "      <td>27</td>\n",
       "      <td>0</td>\n",
       "    </tr>\n",
       "    <tr>\n",
       "      <th>766</th>\n",
       "      <td>1</td>\n",
       "      <td>126</td>\n",
       "      <td>60</td>\n",
       "      <td>0</td>\n",
       "      <td>0</td>\n",
       "      <td>30.1</td>\n",
       "      <td>0.349</td>\n",
       "      <td>47</td>\n",
       "      <td>1</td>\n",
       "    </tr>\n",
       "    <tr>\n",
       "      <th>767</th>\n",
       "      <td>1</td>\n",
       "      <td>93</td>\n",
       "      <td>70</td>\n",
       "      <td>31</td>\n",
       "      <td>0</td>\n",
       "      <td>30.4</td>\n",
       "      <td>0.315</td>\n",
       "      <td>23</td>\n",
       "      <td>0</td>\n",
       "    </tr>\n",
       "  </tbody>\n",
       "</table>\n",
       "<p>689 rows × 9 columns</p>\n",
       "</div>"
      ],
      "text/plain": [
       "     Pregnancies  Glucose  BloodPressure  SkinThickness  Insulin   BMI  \\\n",
       "288            4       96             56             17       49  20.8   \n",
       "594            6      123             72             45      230  33.6   \n",
       "50             1      103             80             11       82  19.4   \n",
       "497            2       81             72             15       76  30.1   \n",
       "305            2      120             76             37      105  39.7   \n",
       "..           ...      ...            ...            ...      ...   ...   \n",
       "761            9      170             74             31        0  44.0   \n",
       "762            9       89             62              0        0  22.5   \n",
       "764            2      122             70             27        0  36.8   \n",
       "766            1      126             60              0        0  30.1   \n",
       "767            1       93             70             31        0  30.4   \n",
       "\n",
       "     DiabetesPedigreeFunction  Age  Outcome  \n",
       "288                     0.340   26        0  \n",
       "594                     0.733   34        0  \n",
       "50                      0.491   22        0  \n",
       "497                     0.547   25        0  \n",
       "305                     0.215   29        0  \n",
       "..                        ...  ...      ...  \n",
       "761                     0.403   43        1  \n",
       "762                     0.142   33        0  \n",
       "764                     0.340   27        0  \n",
       "766                     0.349   47        1  \n",
       "767                     0.315   23        0  \n",
       "\n",
       "[689 rows x 9 columns]"
      ]
     },
     "execution_count": 45,
     "metadata": {},
     "output_type": "execute_result"
    }
   ],
   "source": [
    "df_train_all"
   ]
  },
  {
   "cell_type": "code",
   "execution_count": 46,
   "id": "8a751238",
   "metadata": {
    "execution": {
     "iopub.execute_input": "2022-03-27T19:03:21.028341Z",
     "iopub.status.busy": "2022-03-27T19:03:21.024599Z",
     "iopub.status.idle": "2022-03-27T19:03:21.034373Z",
     "shell.execute_reply": "2022-03-27T19:03:21.033370Z",
     "shell.execute_reply.started": "2022-03-27T18:57:37.560158Z"
    },
    "papermill": {
     "duration": 0.10848,
     "end_time": "2022-03-27T19:03:21.034837",
     "exception": false,
     "start_time": "2022-03-27T19:03:20.926357",
     "status": "completed"
    },
    "tags": []
   },
   "outputs": [
    {
     "name": "stdout",
     "output_type": "stream",
     "text": [
      "feature name   Missing Values      % missing values\n",
      "Glucose        5                    0.73\n",
      "BloodPressure  35                   5.08\n",
      "SkinThickness  227                  32.95\n",
      "Insulin        374                  54.28\n",
      "BMI            11                   1.60\n"
     ]
    }
   ],
   "source": [
    "#lets check the number of missing values in this dataset\n",
    "check_missing(df_train_all)"
   ]
  },
  {
   "cell_type": "code",
   "execution_count": 47,
   "id": "5dba8d30",
   "metadata": {
    "execution": {
     "iopub.execute_input": "2022-03-27T19:03:21.222001Z",
     "iopub.status.busy": "2022-03-27T19:03:21.220907Z",
     "iopub.status.idle": "2022-03-27T19:03:21.245379Z",
     "shell.execute_reply": "2022-03-27T19:03:21.245891Z",
     "shell.execute_reply.started": "2022-03-27T18:57:37.573664Z"
    },
    "papermill": {
     "duration": 0.120008,
     "end_time": "2022-03-27T19:03:21.246062",
     "exception": false,
     "start_time": "2022-03-27T19:03:21.126054",
     "status": "completed"
    },
    "tags": []
   },
   "outputs": [],
   "source": [
    "## lets treat the missing values\n",
    "for i in ms_col:\n",
    "    df_train_all.loc[(df_train_all['Outcome']==0) & (df_train_all[i]==0), i] = df_train_all[(df_train_all['Outcome']==0) & (df_train_all[i]!=0)][i].median()\n",
    "    df_train_all.loc[(df_train_all['Outcome']==1) & (df_train_all[i]==0), i] = df_train_all[(df_train_all['Outcome']==1) & (df_train_all[i]!=0)][i].median()"
   ]
  },
  {
   "cell_type": "code",
   "execution_count": 48,
   "id": "fbaf7935",
   "metadata": {
    "execution": {
     "iopub.execute_input": "2022-03-27T19:03:21.431041Z",
     "iopub.status.busy": "2022-03-27T19:03:21.430075Z",
     "iopub.status.idle": "2022-03-27T19:03:21.438746Z",
     "shell.execute_reply": "2022-03-27T19:03:21.439347Z",
     "shell.execute_reply.started": "2022-03-27T18:57:37.601709Z"
    },
    "papermill": {
     "duration": 0.102487,
     "end_time": "2022-03-27T19:03:21.439515",
     "exception": false,
     "start_time": "2022-03-27T19:03:21.337028",
     "status": "completed"
    },
    "tags": []
   },
   "outputs": [
    {
     "name": "stdout",
     "output_type": "stream",
     "text": [
      "feature name   Missing Values      % missing values\n",
      "Glucose        0                    0.00\n",
      "BloodPressure  0                    0.00\n",
      "SkinThickness  0                    0.00\n",
      "Insulin        0                    0.00\n",
      "BMI            0                    0.00\n"
     ]
    }
   ],
   "source": [
    "#lets check the missing \n",
    "check_missing(df_train_all)"
   ]
  },
  {
   "cell_type": "code",
   "execution_count": 49,
   "id": "f2095cbf",
   "metadata": {
    "execution": {
     "iopub.execute_input": "2022-03-27T19:03:21.629626Z",
     "iopub.status.busy": "2022-03-27T19:03:21.628327Z",
     "iopub.status.idle": "2022-03-27T19:03:21.632664Z",
     "shell.execute_reply": "2022-03-27T19:03:21.633190Z",
     "shell.execute_reply.started": "2022-03-27T18:57:37.612191Z"
    },
    "papermill": {
     "duration": 0.100523,
     "end_time": "2022-03-27T19:03:21.633364",
     "exception": false,
     "start_time": "2022-03-27T19:03:21.532841",
     "status": "completed"
    },
    "tags": []
   },
   "outputs": [],
   "source": [
    "# ! COOL"
   ]
  },
  {
   "cell_type": "code",
   "execution_count": 50,
   "id": "816198ab",
   "metadata": {
    "execution": {
     "iopub.execute_input": "2022-03-27T19:03:21.829787Z",
     "iopub.status.busy": "2022-03-27T19:03:21.828959Z",
     "iopub.status.idle": "2022-03-27T19:03:21.835942Z",
     "shell.execute_reply": "2022-03-27T19:03:21.836472Z",
     "shell.execute_reply.started": "2022-03-27T18:57:37.621672Z"
    },
    "papermill": {
     "duration": 0.106076,
     "end_time": "2022-03-27T19:03:21.836645",
     "exception": false,
     "start_time": "2022-03-27T19:03:21.730569",
     "status": "completed"
    },
    "tags": []
   },
   "outputs": [],
   "source": [
    "# Now lets apply the XGBoost with cross validation 5 fold \n",
    "Xt=df_train_all.drop('Outcome',axis=1)\n",
    "Yt=df_train_all['Outcome']\n",
    "scaling_xt=StandardScaler()\n",
    "Xt=scaling_xt.fit_transform(Xt)\n"
   ]
  },
  {
   "cell_type": "code",
   "execution_count": 51,
   "id": "081e8af7",
   "metadata": {
    "execution": {
     "iopub.execute_input": "2022-03-27T19:03:22.017784Z",
     "iopub.status.busy": "2022-03-27T19:03:22.015658Z",
     "iopub.status.idle": "2022-03-27T19:03:22.020461Z",
     "shell.execute_reply": "2022-03-27T19:03:22.020970Z",
     "shell.execute_reply.started": "2022-03-27T18:57:37.638413Z"
    },
    "papermill": {
     "duration": 0.096885,
     "end_time": "2022-03-27T19:03:22.021171",
     "exception": false,
     "start_time": "2022-03-27T19:03:21.924286",
     "status": "completed"
    },
    "tags": []
   },
   "outputs": [
    {
     "data": {
      "text/plain": [
       "(689, 8)"
      ]
     },
     "execution_count": 51,
     "metadata": {},
     "output_type": "execute_result"
    }
   ],
   "source": [
    "Xt.shape"
   ]
  },
  {
   "cell_type": "code",
   "execution_count": 52,
   "id": "a77022c5",
   "metadata": {
    "execution": {
     "iopub.execute_input": "2022-03-27T19:03:22.208998Z",
     "iopub.status.busy": "2022-03-27T19:03:22.208376Z",
     "iopub.status.idle": "2022-03-27T19:03:22.213214Z",
     "shell.execute_reply": "2022-03-27T19:03:22.213747Z",
     "shell.execute_reply.started": "2022-03-27T18:57:37.650194Z"
    },
    "papermill": {
     "duration": 0.095599,
     "end_time": "2022-03-27T19:03:22.213922",
     "exception": false,
     "start_time": "2022-03-27T19:03:22.118323",
     "status": "completed"
    },
    "tags": []
   },
   "outputs": [
    {
     "data": {
      "text/plain": [
       "(689,)"
      ]
     },
     "execution_count": 52,
     "metadata": {},
     "output_type": "execute_result"
    }
   ],
   "source": [
    "Yt.shape"
   ]
  },
  {
   "cell_type": "code",
   "execution_count": 53,
   "id": "48c2ef7e",
   "metadata": {
    "execution": {
     "iopub.execute_input": "2022-03-27T19:03:22.398321Z",
     "iopub.status.busy": "2022-03-27T19:03:22.397633Z",
     "iopub.status.idle": "2022-03-27T19:03:24.519852Z",
     "shell.execute_reply": "2022-03-27T19:03:24.521286Z",
     "shell.execute_reply.started": "2022-03-27T18:57:37.666059Z"
    },
    "papermill": {
     "duration": 2.218279,
     "end_time": "2022-03-27T19:03:24.521540",
     "exception": false,
     "start_time": "2022-03-27T19:03:22.303261",
     "status": "completed"
    },
    "tags": []
   },
   "outputs": [
    {
     "name": "stderr",
     "output_type": "stream",
     "text": [
      "/opt/conda/lib/python3.7/site-packages/xgboost/sklearn.py:1224: UserWarning: The use of label encoder in XGBClassifier is deprecated and will be removed in a future release. To remove this warning, do the following: 1) Pass option use_label_encoder=False when constructing XGBClassifier object; and 2) Encode your labels (y) as integers starting with 0, i.e. 0, 1, 2, ..., [num_class - 1].\n",
      "  warnings.warn(label_encoder_deprecation_msg, UserWarning)\n"
     ]
    },
    {
     "name": "stdout",
     "output_type": "stream",
     "text": [
      "[0.89130435 0.89130435 0.87681159 0.89130435 0.88321168]\n",
      "Accuracy: 88.68% (0.59%)\n"
     ]
    }
   ],
   "source": [
    "\n",
    "modelt = XGBClassifier(eval_metric='logloss')\n",
    "kfoldt = KFold(n_splits=5, shuffle=True, random_state=42)\n",
    "resultst = cross_val_score(modelt, Xt, Yt, cv=kfoldt)\n",
    "print(resultst)\n",
    "print(\"Accuracy: %.2f%% (%.2f%%)\" % (resultst.mean()*100, resultst.std()*100))"
   ]
  },
  {
   "cell_type": "code",
   "execution_count": null,
   "id": "a2f1f7e0",
   "metadata": {
    "papermill": {
     "duration": 0.093777,
     "end_time": "2022-03-27T19:03:24.710408",
     "exception": false,
     "start_time": "2022-03-27T19:03:24.616631",
     "status": "completed"
    },
    "tags": []
   },
   "outputs": [],
   "source": []
  },
  {
   "cell_type": "code",
   "execution_count": 54,
   "id": "f0385b27",
   "metadata": {
    "execution": {
     "iopub.execute_input": "2022-03-27T19:03:24.902145Z",
     "iopub.status.busy": "2022-03-27T19:03:24.897874Z",
     "iopub.status.idle": "2022-03-27T19:03:25.337863Z",
     "shell.execute_reply": "2022-03-27T19:03:25.338933Z",
     "shell.execute_reply.started": "2022-03-27T18:57:53.426887Z"
    },
    "papermill": {
     "duration": 0.533974,
     "end_time": "2022-03-27T19:03:25.339318",
     "exception": false,
     "start_time": "2022-03-27T19:03:24.805344",
     "status": "completed"
    },
    "tags": []
   },
   "outputs": [
    {
     "name": "stderr",
     "output_type": "stream",
     "text": [
      "/opt/conda/lib/python3.7/site-packages/xgboost/sklearn.py:1224: UserWarning: The use of label encoder in XGBClassifier is deprecated and will be removed in a future release. To remove this warning, do the following: 1) Pass option use_label_encoder=False when constructing XGBClassifier object; and 2) Encode your labels (y) as integers starting with 0, i.e. 0, 1, 2, ..., [num_class - 1].\n",
      "  warnings.warn(label_encoder_deprecation_msg, UserWarning)\n"
     ]
    },
    {
     "name": "stdout",
     "output_type": "stream",
     "text": [
      "Accuracy score from train set is  1.0\n",
      "Accuracy score from test set is  0.855072463768116\n"
     ]
    }
   ],
   "source": [
    "## lets do a final test now \n",
    "#Lets check the accuracy score on the test sample \n",
    "Xt_train,Xt_test,Yt_train,Yt_test = train_test_split(Xt,Yt,test_size=0.20, random_state=7,stratify=Yt)\n",
    "\n",
    "model1f = XGBClassifier(eval_metric='logloss')\n",
    "model1f.fit(Xt_train,Yt_train)\n",
    "\n",
    "print(\"Accuracy score from train set is \",model1f.score(Xt_train, Yt_train))\n",
    "print(\"Accuracy score from test set is \",model1f.score(Xt_test, Yt_test))"
   ]
  },
  {
   "cell_type": "code",
   "execution_count": null,
   "id": "55378230",
   "metadata": {
    "execution": {
     "iopub.status.busy": "2022-03-27T18:57:39.784078Z",
     "iopub.status.idle": "2022-03-27T18:57:39.784424Z",
     "shell.execute_reply": "2022-03-27T18:57:39.784264Z",
     "shell.execute_reply.started": "2022-03-27T18:57:39.784241Z"
    },
    "papermill": {
     "duration": 0.091974,
     "end_time": "2022-03-27T19:03:25.527884",
     "exception": false,
     "start_time": "2022-03-27T19:03:25.435910",
     "status": "completed"
    },
    "tags": []
   },
   "outputs": [],
   "source": []
  },
  {
   "cell_type": "code",
   "execution_count": 55,
   "id": "b2ee5b7e",
   "metadata": {
    "execution": {
     "iopub.execute_input": "2022-03-27T19:03:25.718705Z",
     "iopub.status.busy": "2022-03-27T19:03:25.717981Z",
     "iopub.status.idle": "2022-03-27T19:03:25.728241Z",
     "shell.execute_reply": "2022-03-27T19:03:25.729460Z",
     "shell.execute_reply.started": "2022-03-27T18:58:01.311023Z"
    },
    "papermill": {
     "duration": 0.110275,
     "end_time": "2022-03-27T19:03:25.729672",
     "exception": false,
     "start_time": "2022-03-27T19:03:25.619397",
     "status": "completed"
    },
    "tags": []
   },
   "outputs": [
    {
     "data": {
      "text/plain": [
       "0.3291139240506329"
      ]
     },
     "execution_count": 55,
     "metadata": {},
     "output_type": "execute_result"
    }
   ],
   "source": [
    "# let's test it on the left out test sample\n",
    "model1f.score(X_test_nmiss, Y_test_nmiss)"
   ]
  },
  {
   "cell_type": "code",
   "execution_count": 56,
   "id": "23758ddd",
   "metadata": {
    "execution": {
     "iopub.execute_input": "2022-03-27T19:03:25.926214Z",
     "iopub.status.busy": "2022-03-27T19:03:25.925249Z",
     "iopub.status.idle": "2022-03-27T19:03:25.943994Z",
     "shell.execute_reply": "2022-03-27T19:03:25.945313Z",
     "shell.execute_reply.started": "2022-03-27T18:58:03.654537Z"
    },
    "papermill": {
     "duration": 0.119087,
     "end_time": "2022-03-27T19:03:25.945530",
     "exception": false,
     "start_time": "2022-03-27T19:03:25.826443",
     "status": "completed"
    },
    "tags": []
   },
   "outputs": [
    {
     "data": {
      "text/plain": [
       "0.3291139240506329"
      ]
     },
     "execution_count": 56,
     "metadata": {},
     "output_type": "execute_result"
    }
   ],
   "source": [
    "model1.score(X_test_nmiss, Y_test_nmiss)"
   ]
  },
  {
   "cell_type": "code",
   "execution_count": 57,
   "id": "1e3c4788",
   "metadata": {
    "execution": {
     "iopub.execute_input": "2022-03-27T19:03:26.139015Z",
     "iopub.status.busy": "2022-03-27T19:03:26.138175Z",
     "iopub.status.idle": "2022-03-27T19:03:26.140759Z",
     "shell.execute_reply": "2022-03-27T19:03:26.140268Z",
     "shell.execute_reply.started": "2022-03-27T18:57:39.788247Z"
    },
    "papermill": {
     "duration": 0.098928,
     "end_time": "2022-03-27T19:03:26.140902",
     "exception": false,
     "start_time": "2022-03-27T19:03:26.041974",
     "status": "completed"
    },
    "tags": []
   },
   "outputs": [],
   "source": [
    "test_final = pd.concat([X_test_nmiss,Y_test_nmiss],axis=1)"
   ]
  },
  {
   "cell_type": "code",
   "execution_count": 58,
   "id": "7f83d3e4",
   "metadata": {
    "execution": {
     "iopub.execute_input": "2022-03-27T19:03:26.330786Z",
     "iopub.status.busy": "2022-03-27T19:03:26.329742Z",
     "iopub.status.idle": "2022-03-27T19:03:26.333326Z",
     "shell.execute_reply": "2022-03-27T19:03:26.333832Z",
     "shell.execute_reply.started": "2022-03-27T18:57:39.789932Z"
    },
    "papermill": {
     "duration": 0.102157,
     "end_time": "2022-03-27T19:03:26.334015",
     "exception": false,
     "start_time": "2022-03-27T19:03:26.231858",
     "status": "completed"
    },
    "tags": []
   },
   "outputs": [
    {
     "data": {
      "text/plain": [
       "(79, 9)"
      ]
     },
     "execution_count": 58,
     "metadata": {},
     "output_type": "execute_result"
    }
   ],
   "source": [
    "test_final.shape"
   ]
  },
  {
   "cell_type": "code",
   "execution_count": 59,
   "id": "7d3b89fc",
   "metadata": {
    "execution": {
     "iopub.execute_input": "2022-03-27T19:03:26.548965Z",
     "iopub.status.busy": "2022-03-27T19:03:26.545343Z",
     "iopub.status.idle": "2022-03-27T19:03:26.756273Z",
     "shell.execute_reply": "2022-03-27T19:03:26.756749Z",
     "shell.execute_reply.started": "2022-03-27T18:57:39.791707Z"
    },
    "papermill": {
     "duration": 0.327435,
     "end_time": "2022-03-27T19:03:26.756926",
     "exception": false,
     "start_time": "2022-03-27T19:03:26.429491",
     "status": "completed"
    },
    "tags": []
   },
   "outputs": [
    {
     "data": {
      "text/plain": [
       "<AxesSubplot:>"
      ]
     },
     "execution_count": 59,
     "metadata": {},
     "output_type": "execute_result"
    },
    {
     "data": {
      "image/png": "[encoded data removed]",
      "text/plain": [
       "<Figure size 432x288 with 1 Axes>"
      ]
     },
     "metadata": {
      "needs_background": "light"
     },
     "output_type": "display_data"
    }
   ],
   "source": [
    "test_final['Outcome'].hist()"
   ]
  },
  {
   "cell_type": "code",
   "execution_count": 60,
   "id": "0aabe2f1",
   "metadata": {
    "execution": {
     "iopub.execute_input": "2022-03-27T19:03:26.961550Z",
     "iopub.status.busy": "2022-03-27T19:03:26.960904Z",
     "iopub.status.idle": "2022-03-27T19:03:28.232055Z",
     "shell.execute_reply": "2022-03-27T19:03:28.231553Z",
     "shell.execute_reply.started": "2022-03-27T18:57:39.793694Z"
    },
    "papermill": {
     "duration": 1.377521,
     "end_time": "2022-03-27T19:03:28.232268",
     "exception": false,
     "start_time": "2022-03-27T19:03:26.854747",
     "status": "completed"
    },
    "tags": []
   },
   "outputs": [
    {
     "data": {
      "image/png": "[encoded data removed]",
      "text/plain": [
       "<Figure size 720x1224 with 9 Axes>"
      ]
     },
     "metadata": {
      "needs_background": "light"
     },
     "output_type": "display_data"
    }
   ],
   "source": [
    "test_final.hist(figsize=(10,17))\n",
    "plt.show()"
   ]
  },
  {
   "cell_type": "code",
   "execution_count": null,
   "id": "cec05212",
   "metadata": {
    "papermill": {
     "duration": 0.095643,
     "end_time": "2022-03-27T19:03:28.422934",
     "exception": false,
     "start_time": "2022-03-27T19:03:28.327291",
     "status": "completed"
    },
    "tags": []
   },
   "outputs": [],
   "source": []
  }
 ],
 "metadata": {
  "kernelspec": {
   "display_name": "Python 3",
   "language": "python",
   "name": "python3"
  },
  "language_info": {
   "codemirror_mode": {
    "name": "ipython",
    "version": 3
   },
   "file_extension": ".py",
   "mimetype": "text/x-python",
   "name": "python",
   "nbconvert_exporter": "python",
   "pygments_lexer": "ipython3",
   "version": "3.7.12"
  },
  "papermill": {
   "default_parameters": {},
   "duration": 40.576104,
   "end_time": "2022-03-27T19:03:29.327354",
   "environment_variables": {},
   "exception": null,
   "input_path": "__notebook__.ipynb",
   "output_path": "__notebook__.ipynb",
   "parameters": {},
   "start_time": "2022-03-27T19:02:48.751250",
   "version": "2.3.3"
  }
 },
 "nbformat": 4,
 "nbformat_minor": 5
}
